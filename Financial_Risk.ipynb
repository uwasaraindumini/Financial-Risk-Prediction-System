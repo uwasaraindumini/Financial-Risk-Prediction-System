{
 "cells": [
  {
   "cell_type": "markdown",
   "id": "31e079e4-4a1a-440e-96cd-ccfd31d9b12b",
   "metadata": {
    "id": "31e079e4-4a1a-440e-96cd-ccfd31d9b12b"
   },
   "source": [
    "#  Predicting financial risk using machine learning\n",
    "\n",
    "This notebook looks into using various Python-based machine learning and data science libraries in an attempt to build a machine learning model capable of predicting the rate of someone facing financial risk being low, medium or high based on their financial and social attributes.\n",
    "\n",
    "We're going to take the following approach:\n",
    "\n",
    "1. Problem definition\n",
    "2. Data\n",
    "3. Evaluation\n",
    "4. Features\n",
    "5. EDA\n",
    "6. Preprocessing\n",
    "7. Modelling\n",
    "8. Experimentation\n",
    "\n",
    "## 1. Problem Definition\n",
    "Given a financial and social parameters about a person, can we predict the rate of the financial risk level that they are in.\n",
    "\n",
    "## 2. Data\n",
    "The data is taken from the kaggle website.The link: https://www.kaggle.com/datasets/preethamgouda/financial-risk/data. Please note that these data is taken from USA.\n",
    "\n",
    "## 3. Evaluation\n",
    "If we can reach 75% accuracy at predicting the financial risk rate correctly, we'll pursue the project.\n",
    "\n",
    "## 4. Features\n",
    "Describing all the features in the dataset\n",
    "\n",
    "1. Age: The age of the individual, a continuous variable influencing financial stability.\n",
    "   * Ranges from 18 years to 69 years\n",
    "2. Gender: Gender of the individual\n",
    "   * Male\n",
    "   * Female\n",
    "   * Non-binary\n",
    "3. Education level: Highest level of education achieved\n",
    "   * Bachelor's\n",
    "   * High school\n",
    "   * PhD\n",
    "4. Marital status: Current marital status\n",
    "   * Widowed\n",
    "   * divorced\n",
    "   * single\n",
    "   * married\n",
    "5. Income: Ranges from 20k to 120k in USD\n",
    "6. Credit score: Numeric value indicating creditworthiness ranges from 600 to 799\n",
    "7. Loan Amount: The amount of loan requested by the individual. Ranges from 5k to 50k in USD\n",
    "8. Loan purpose: The purpose of the loan, categorized into\n",
    "   * Home\n",
    "   * Auto\n",
    "   * Personal\n",
    "   * Business\n",
    "9. Employment Status: Employment situation of the individual, including\n",
    "   * Employed\n",
    "   * Unemployed\n",
    "   * Self-employed\n",
    "10. Years at current job: Duration of employment at the current job, reflecting job stability.  Ranges from 0 to 19\n",
    "13. Payment history: Historical payment performance, categorized into\n",
    "    * Excellent\n",
    "    * Good\n",
    "    * Fair\n",
    "    * Poor.\n",
    "15. Debt-to-Income Ratio: Ratio of debt to income, indicating financial leverage and risk. Ranges from 0.1 to 0.6\n",
    "16. Assets value: Total value of assets owned by the individual. Ranges from 20.1k to 300k in USD\n",
    "17. Number of dependents: Dependents supported by the individual, affecting financial responsibilities. Rnages from 0 to 4.\n",
    "18. City: City where the individual resides, providing geographic context.\n",
    "19. State: State where the individual resides, giving further geographic detail.\n",
    "20. Country: Country of residence, adding a global perspective\n",
    "21. Previous defaults: Number of previous loan defaults, indicating historical financial risk. Ranges from 0 to 4\n",
    "22. Marital Status change: Number of changes in marital status, reflecting personal life changes. Rnages from 0 to 2\n",
    "23. Risk rating: Target column categorizing financial risk into\n",
    "    * Low\n",
    "    * Medium\n",
    "    * High"
   ]
  },
  {
   "cell_type": "markdown",
   "id": "a5332b3a-1d25-4e85-8001-1d00406d3c3d",
   "metadata": {
    "id": "a5332b3a-1d25-4e85-8001-1d00406d3c3d"
   },
   "source": [
    "### Preparing the tools"
   ]
  },
  {
   "cell_type": "code",
   "execution_count": 1,
   "id": "54769849-dd21-4ec1-9fc4-d4bd6792935e",
   "metadata": {
    "id": "54769849-dd21-4ec1-9fc4-d4bd6792935e"
   },
   "outputs": [],
   "source": [
    "#EDA(exploring data analysis) and plotting libraries\n",
    "import numpy as np\n",
    "import pandas as pd\n",
    "import matplotlib.pyplot as plt\n",
    "import seaborn as sns\n",
    "%matplotlib inline"
   ]
  },
  {
   "cell_type": "markdown",
   "id": "6f50c431-5ef4-4709-90a7-ec71b0f4bcf0",
   "metadata": {
    "id": "6f50c431-5ef4-4709-90a7-ec71b0f4bcf0"
   },
   "source": [
    "### Load the data"
   ]
  },
  {
   "cell_type": "code",
   "execution_count": 4,
   "id": "3e96b43d-c561-4830-b6fe-11d09140c16c",
   "metadata": {
    "colab": {
     "base_uri": "https://localhost:8080/",
     "height": 347
    },
    "id": "3e96b43d-c561-4830-b6fe-11d09140c16c",
    "outputId": "d12801f9-8893-4b4c-deaa-e808218b996f"
   },
   "outputs": [
    {
     "data": {
      "text/html": [
       "<div>\n",
       "<style scoped>\n",
       "    .dataframe tbody tr th:only-of-type {\n",
       "        vertical-align: middle;\n",
       "    }\n",
       "\n",
       "    .dataframe tbody tr th {\n",
       "        vertical-align: top;\n",
       "    }\n",
       "\n",
       "    .dataframe thead th {\n",
       "        text-align: right;\n",
       "    }\n",
       "</style>\n",
       "<table border=\"1\" class=\"dataframe\">\n",
       "  <thead>\n",
       "    <tr style=\"text-align: right;\">\n",
       "      <th></th>\n",
       "      <th>Age</th>\n",
       "      <th>Gender</th>\n",
       "      <th>Education Level</th>\n",
       "      <th>Marital Status</th>\n",
       "      <th>Income</th>\n",
       "      <th>Credit Score</th>\n",
       "      <th>Loan Amount</th>\n",
       "      <th>Loan Purpose</th>\n",
       "      <th>Employment Status</th>\n",
       "      <th>Years at Current Job</th>\n",
       "      <th>Payment History</th>\n",
       "      <th>Debt-to-Income Ratio</th>\n",
       "      <th>Assets Value</th>\n",
       "      <th>Number of Dependents</th>\n",
       "      <th>City</th>\n",
       "      <th>State</th>\n",
       "      <th>Country</th>\n",
       "      <th>Previous Defaults</th>\n",
       "      <th>Marital Status Change</th>\n",
       "      <th>Risk Rating</th>\n",
       "    </tr>\n",
       "  </thead>\n",
       "  <tbody>\n",
       "    <tr>\n",
       "      <th>0</th>\n",
       "      <td>25</td>\n",
       "      <td>Male</td>\n",
       "      <td>Bachelor's</td>\n",
       "      <td>Widowed</td>\n",
       "      <td>NaN</td>\n",
       "      <td>796.0</td>\n",
       "      <td>26214.0</td>\n",
       "      <td>Personal</td>\n",
       "      <td>Employed</td>\n",
       "      <td>13</td>\n",
       "      <td>Good</td>\n",
       "      <td>0.176125</td>\n",
       "      <td>82186.0</td>\n",
       "      <td>2.0</td>\n",
       "      <td>North Hollyfort</td>\n",
       "      <td>NJ</td>\n",
       "      <td>Ireland</td>\n",
       "      <td>0.0</td>\n",
       "      <td>2</td>\n",
       "      <td>Low</td>\n",
       "    </tr>\n",
       "    <tr>\n",
       "      <th>1</th>\n",
       "      <td>64</td>\n",
       "      <td>Non-binary</td>\n",
       "      <td>High School</td>\n",
       "      <td>Divorced</td>\n",
       "      <td>85573.0</td>\n",
       "      <td>667.0</td>\n",
       "      <td>14241.0</td>\n",
       "      <td>Business</td>\n",
       "      <td>Employed</td>\n",
       "      <td>16</td>\n",
       "      <td>Fair</td>\n",
       "      <td>0.323489</td>\n",
       "      <td>230858.0</td>\n",
       "      <td>0.0</td>\n",
       "      <td>East Angelaburgh</td>\n",
       "      <td>AS</td>\n",
       "      <td>British Virgin Islands</td>\n",
       "      <td>1.0</td>\n",
       "      <td>1</td>\n",
       "      <td>Medium</td>\n",
       "    </tr>\n",
       "    <tr>\n",
       "      <th>2</th>\n",
       "      <td>37</td>\n",
       "      <td>Female</td>\n",
       "      <td>High School</td>\n",
       "      <td>Widowed</td>\n",
       "      <td>51979.0</td>\n",
       "      <td>NaN</td>\n",
       "      <td>NaN</td>\n",
       "      <td>Home</td>\n",
       "      <td>Employed</td>\n",
       "      <td>2</td>\n",
       "      <td>Fair</td>\n",
       "      <td>0.271581</td>\n",
       "      <td>197984.0</td>\n",
       "      <td>NaN</td>\n",
       "      <td>South Kevin</td>\n",
       "      <td>MH</td>\n",
       "      <td>France</td>\n",
       "      <td>4.0</td>\n",
       "      <td>0</td>\n",
       "      <td>High</td>\n",
       "    </tr>\n",
       "    <tr>\n",
       "      <th>3</th>\n",
       "      <td>59</td>\n",
       "      <td>Female</td>\n",
       "      <td>PhD</td>\n",
       "      <td>Divorced</td>\n",
       "      <td>95653.0</td>\n",
       "      <td>647.0</td>\n",
       "      <td>47580.0</td>\n",
       "      <td>Auto</td>\n",
       "      <td>Unemployed</td>\n",
       "      <td>3</td>\n",
       "      <td>Poor</td>\n",
       "      <td>0.133509</td>\n",
       "      <td>226984.0</td>\n",
       "      <td>3.0</td>\n",
       "      <td>Lamshire</td>\n",
       "      <td>KS</td>\n",
       "      <td>Mauritania</td>\n",
       "      <td>NaN</td>\n",
       "      <td>2</td>\n",
       "      <td>High</td>\n",
       "    </tr>\n",
       "    <tr>\n",
       "      <th>4</th>\n",
       "      <td>46</td>\n",
       "      <td>Male</td>\n",
       "      <td>Bachelor's</td>\n",
       "      <td>Single</td>\n",
       "      <td>NaN</td>\n",
       "      <td>NaN</td>\n",
       "      <td>NaN</td>\n",
       "      <td>Auto</td>\n",
       "      <td>Unemployed</td>\n",
       "      <td>0</td>\n",
       "      <td>Excellent</td>\n",
       "      <td>0.130810</td>\n",
       "      <td>67633.0</td>\n",
       "      <td>1.0</td>\n",
       "      <td>Chavezberg</td>\n",
       "      <td>MT</td>\n",
       "      <td>Northern Mariana Islands</td>\n",
       "      <td>1.0</td>\n",
       "      <td>2</td>\n",
       "      <td>High</td>\n",
       "    </tr>\n",
       "  </tbody>\n",
       "</table>\n",
       "</div>"
      ],
      "text/plain": [
       "   Age      Gender Education Level Marital Status   Income  Credit Score  \\\n",
       "0   25        Male      Bachelor's        Widowed      NaN         796.0   \n",
       "1   64  Non-binary     High School       Divorced  85573.0         667.0   \n",
       "2   37      Female     High School        Widowed  51979.0           NaN   \n",
       "3   59      Female             PhD       Divorced  95653.0         647.0   \n",
       "4   46        Male      Bachelor's         Single      NaN           NaN   \n",
       "\n",
       "   Loan Amount Loan Purpose Employment Status  Years at Current Job  \\\n",
       "0      26214.0     Personal          Employed                    13   \n",
       "1      14241.0     Business          Employed                    16   \n",
       "2          NaN         Home          Employed                     2   \n",
       "3      47580.0         Auto        Unemployed                     3   \n",
       "4          NaN         Auto        Unemployed                     0   \n",
       "\n",
       "  Payment History  Debt-to-Income Ratio  Assets Value  Number of Dependents  \\\n",
       "0            Good              0.176125       82186.0                   2.0   \n",
       "1            Fair              0.323489      230858.0                   0.0   \n",
       "2            Fair              0.271581      197984.0                   NaN   \n",
       "3            Poor              0.133509      226984.0                   3.0   \n",
       "4       Excellent              0.130810       67633.0                   1.0   \n",
       "\n",
       "               City State                   Country  Previous Defaults  \\\n",
       "0   North Hollyfort    NJ                   Ireland                0.0   \n",
       "1  East Angelaburgh    AS    British Virgin Islands                1.0   \n",
       "2       South Kevin    MH                    France                4.0   \n",
       "3          Lamshire    KS                Mauritania                NaN   \n",
       "4        Chavezberg    MT  Northern Mariana Islands                1.0   \n",
       "\n",
       "   Marital Status Change Risk Rating  \n",
       "0                      2         Low  \n",
       "1                      1      Medium  \n",
       "2                      0        High  \n",
       "3                      2        High  \n",
       "4                      2        High  "
      ]
     },
     "execution_count": 4,
     "metadata": {},
     "output_type": "execute_result"
    }
   ],
   "source": [
    "dataset = pd.read_csv(\"financial_risk_assessment.csv\")\n",
    "dataset.head()"
   ]
  },
  {
   "cell_type": "markdown",
   "id": "ed2c5e01-91b4-4ef7-8549-4635bf411f91",
   "metadata": {
    "id": "ed2c5e01-91b4-4ef7-8549-4635bf411f91"
   },
   "source": [
    "### 5. Data Exploration (EDA)"
   ]
  },
  {
   "cell_type": "code",
   "execution_count": 7,
   "id": "a566767c-0876-41c4-8cf5-70f3ddcf5438",
   "metadata": {
    "colab": {
     "base_uri": "https://localhost:8080/"
    },
    "id": "a566767c-0876-41c4-8cf5-70f3ddcf5438",
    "outputId": "1fe91c32-219b-4790-a46f-1d29adea7b51"
   },
   "outputs": [
    {
     "data": {
      "text/plain": [
       "(4700, 20)"
      ]
     },
     "execution_count": 7,
     "metadata": {},
     "output_type": "execute_result"
    }
   ],
   "source": [
    "# Check the number of rows and columns inthe dataset\n",
    "dataset.shape"
   ]
  },
  {
   "cell_type": "code",
   "execution_count": 9,
   "id": "35fcc45c-f79a-4a93-8101-e5d73e031fea",
   "metadata": {
    "colab": {
     "base_uri": "https://localhost:8080/",
     "height": 711
    },
    "id": "35fcc45c-f79a-4a93-8101-e5d73e031fea",
    "outputId": "47ebc26e-d0b0-40dd-b4bb-e5be502ca042"
   },
   "outputs": [
    {
     "data": {
      "text/plain": [
       "Age                        int64\n",
       "Gender                    object\n",
       "Education Level           object\n",
       "Marital Status            object\n",
       "Income                   float64\n",
       "Credit Score             float64\n",
       "Loan Amount              float64\n",
       "Loan Purpose              object\n",
       "Employment Status         object\n",
       "Years at Current Job       int64\n",
       "Payment History           object\n",
       "Debt-to-Income Ratio     float64\n",
       "Assets Value             float64\n",
       "Number of Dependents     float64\n",
       "City                      object\n",
       "State                     object\n",
       "Country                   object\n",
       "Previous Defaults        float64\n",
       "Marital Status Change      int64\n",
       "Risk Rating               object\n",
       "dtype: object"
      ]
     },
     "execution_count": 9,
     "metadata": {},
     "output_type": "execute_result"
    }
   ],
   "source": [
    "# Check the data types\n",
    "dataset.dtypes"
   ]
  },
  {
   "cell_type": "code",
   "execution_count": 11,
   "id": "7f13271d-c46b-4f72-b365-250cec9c2da3",
   "metadata": {
    "colab": {
     "base_uri": "https://localhost:8080/",
     "height": 711
    },
    "id": "7f13271d-c46b-4f72-b365-250cec9c2da3",
    "outputId": "9f9e4dd9-f3c9-47e6-8b25-1a47be112f75"
   },
   "outputs": [
    {
     "data": {
      "text/plain": [
       "Age                        0\n",
       "Gender                     0\n",
       "Education Level            0\n",
       "Marital Status             0\n",
       "Income                   735\n",
       "Credit Score             695\n",
       "Loan Amount              745\n",
       "Loan Purpose               0\n",
       "Employment Status          0\n",
       "Years at Current Job       0\n",
       "Payment History            0\n",
       "Debt-to-Income Ratio       0\n",
       "Assets Value             691\n",
       "Number of Dependents     721\n",
       "City                       0\n",
       "State                      0\n",
       "Country                    0\n",
       "Previous Defaults        707\n",
       "Marital Status Change      0\n",
       "Risk Rating                0\n",
       "dtype: int64"
      ]
     },
     "execution_count": 11,
     "metadata": {},
     "output_type": "execute_result"
    }
   ],
   "source": [
    "# Check whether there are any missing values\n",
    "dataset.isna().sum()"
   ]
  },
  {
   "cell_type": "markdown",
   "id": "bfa37603-2e0a-4567-bbb6-9b3eb2ee3da8",
   "metadata": {
    "id": "bfa37603-2e0a-4567-bbb6-9b3eb2ee3da8"
   },
   "source": [
    "We will be dealing with the null values in the data preprocessing"
   ]
  },
  {
   "cell_type": "code",
   "execution_count": 14,
   "id": "2d108680-9716-4a2a-a707-9b4f843c305e",
   "metadata": {
    "colab": {
     "base_uri": "https://localhost:8080/"
    },
    "id": "2d108680-9716-4a2a-a707-9b4f843c305e",
    "outputId": "cae25f49-78cc-42b2-e436-4658baaed725"
   },
   "outputs": [
    {
     "name": "stdout",
     "output_type": "stream",
     "text": [
      "<class 'pandas.core.frame.DataFrame'>\n",
      "RangeIndex: 4700 entries, 0 to 4699\n",
      "Data columns (total 20 columns):\n",
      " #   Column                 Non-Null Count  Dtype  \n",
      "---  ------                 --------------  -----  \n",
      " 0   Age                    4700 non-null   int64  \n",
      " 1   Gender                 4700 non-null   object \n",
      " 2   Education Level        4700 non-null   object \n",
      " 3   Marital Status         4700 non-null   object \n",
      " 4   Income                 3965 non-null   float64\n",
      " 5   Credit Score           4005 non-null   float64\n",
      " 6   Loan Amount            3955 non-null   float64\n",
      " 7   Loan Purpose           4700 non-null   object \n",
      " 8   Employment Status      4700 non-null   object \n",
      " 9   Years at Current Job   4700 non-null   int64  \n",
      " 10  Payment History        4700 non-null   object \n",
      " 11  Debt-to-Income Ratio   4700 non-null   float64\n",
      " 12  Assets Value           4009 non-null   float64\n",
      " 13  Number of Dependents   3979 non-null   float64\n",
      " 14  City                   4700 non-null   object \n",
      " 15  State                  4700 non-null   object \n",
      " 16  Country                4700 non-null   object \n",
      " 17  Previous Defaults      3993 non-null   float64\n",
      " 18  Marital Status Change  4700 non-null   int64  \n",
      " 19  Risk Rating            4700 non-null   object \n",
      "dtypes: float64(7), int64(3), object(10)\n",
      "memory usage: 734.5+ KB\n"
     ]
    }
   ],
   "source": [
    "# get more details about the dataset\n",
    "dataset.info()"
   ]
  },
  {
   "cell_type": "code",
   "execution_count": 16,
   "id": "e35eae96-b343-4caf-b844-f001590d9860",
   "metadata": {
    "colab": {
     "base_uri": "https://localhost:8080/",
     "height": 355
    },
    "id": "e35eae96-b343-4caf-b844-f001590d9860",
    "outputId": "d410b53d-bafc-4915-b29b-c34f9547618f"
   },
   "outputs": [
    {
     "data": {
      "text/html": [
       "<div>\n",
       "<style scoped>\n",
       "    .dataframe tbody tr th:only-of-type {\n",
       "        vertical-align: middle;\n",
       "    }\n",
       "\n",
       "    .dataframe tbody tr th {\n",
       "        vertical-align: top;\n",
       "    }\n",
       "\n",
       "    .dataframe thead th {\n",
       "        text-align: right;\n",
       "    }\n",
       "</style>\n",
       "<table border=\"1\" class=\"dataframe\">\n",
       "  <thead>\n",
       "    <tr style=\"text-align: right;\">\n",
       "      <th></th>\n",
       "      <th>Age</th>\n",
       "      <th>Income</th>\n",
       "      <th>Credit Score</th>\n",
       "      <th>Loan Amount</th>\n",
       "      <th>Years at Current Job</th>\n",
       "      <th>Debt-to-Income Ratio</th>\n",
       "      <th>Assets Value</th>\n",
       "      <th>Number of Dependents</th>\n",
       "      <th>Previous Defaults</th>\n",
       "      <th>Marital Status Change</th>\n",
       "    </tr>\n",
       "  </thead>\n",
       "  <tbody>\n",
       "    <tr>\n",
       "      <th>count</th>\n",
       "      <td>4700.000000</td>\n",
       "      <td>3965.000000</td>\n",
       "      <td>4005.000000</td>\n",
       "      <td>3955.000000</td>\n",
       "      <td>4700.000000</td>\n",
       "      <td>4700.000000</td>\n",
       "      <td>4009.000000</td>\n",
       "      <td>3979.000000</td>\n",
       "      <td>3993.000000</td>\n",
       "      <td>4700.000000</td>\n",
       "    </tr>\n",
       "    <tr>\n",
       "      <th>mean</th>\n",
       "      <td>43.444468</td>\n",
       "      <td>69602.912484</td>\n",
       "      <td>698.835705</td>\n",
       "      <td>27544.586094</td>\n",
       "      <td>9.527660</td>\n",
       "      <td>0.349977</td>\n",
       "      <td>160479.851833</td>\n",
       "      <td>2.019603</td>\n",
       "      <td>1.964688</td>\n",
       "      <td>1.021489</td>\n",
       "    </tr>\n",
       "    <tr>\n",
       "      <th>std</th>\n",
       "      <td>14.911375</td>\n",
       "      <td>29112.792423</td>\n",
       "      <td>57.149431</td>\n",
       "      <td>12974.472718</td>\n",
       "      <td>5.788707</td>\n",
       "      <td>0.144018</td>\n",
       "      <td>80365.754374</td>\n",
       "      <td>1.414966</td>\n",
       "      <td>1.400689</td>\n",
       "      <td>0.814430</td>\n",
       "    </tr>\n",
       "    <tr>\n",
       "      <th>min</th>\n",
       "      <td>18.000000</td>\n",
       "      <td>20016.000000</td>\n",
       "      <td>600.000000</td>\n",
       "      <td>5001.000000</td>\n",
       "      <td>0.000000</td>\n",
       "      <td>0.100347</td>\n",
       "      <td>20055.000000</td>\n",
       "      <td>0.000000</td>\n",
       "      <td>0.000000</td>\n",
       "      <td>0.000000</td>\n",
       "    </tr>\n",
       "    <tr>\n",
       "      <th>25%</th>\n",
       "      <td>31.000000</td>\n",
       "      <td>44318.000000</td>\n",
       "      <td>651.000000</td>\n",
       "      <td>16387.000000</td>\n",
       "      <td>4.000000</td>\n",
       "      <td>0.223892</td>\n",
       "      <td>91365.000000</td>\n",
       "      <td>1.000000</td>\n",
       "      <td>1.000000</td>\n",
       "      <td>0.000000</td>\n",
       "    </tr>\n",
       "    <tr>\n",
       "      <th>50%</th>\n",
       "      <td>43.000000</td>\n",
       "      <td>68777.000000</td>\n",
       "      <td>699.000000</td>\n",
       "      <td>27829.000000</td>\n",
       "      <td>10.000000</td>\n",
       "      <td>0.351161</td>\n",
       "      <td>160511.000000</td>\n",
       "      <td>2.000000</td>\n",
       "      <td>2.000000</td>\n",
       "      <td>1.000000</td>\n",
       "    </tr>\n",
       "    <tr>\n",
       "      <th>75%</th>\n",
       "      <td>56.000000</td>\n",
       "      <td>95614.000000</td>\n",
       "      <td>748.000000</td>\n",
       "      <td>38773.000000</td>\n",
       "      <td>14.000000</td>\n",
       "      <td>0.476530</td>\n",
       "      <td>230133.000000</td>\n",
       "      <td>3.000000</td>\n",
       "      <td>3.000000</td>\n",
       "      <td>2.000000</td>\n",
       "    </tr>\n",
       "    <tr>\n",
       "      <th>max</th>\n",
       "      <td>69.000000</td>\n",
       "      <td>119958.000000</td>\n",
       "      <td>799.000000</td>\n",
       "      <td>49998.000000</td>\n",
       "      <td>19.000000</td>\n",
       "      <td>0.599809</td>\n",
       "      <td>299999.000000</td>\n",
       "      <td>4.000000</td>\n",
       "      <td>4.000000</td>\n",
       "      <td>2.000000</td>\n",
       "    </tr>\n",
       "  </tbody>\n",
       "</table>\n",
       "</div>"
      ],
      "text/plain": [
       "               Age         Income  Credit Score   Loan Amount  \\\n",
       "count  4700.000000    3965.000000   4005.000000   3955.000000   \n",
       "mean     43.444468   69602.912484    698.835705  27544.586094   \n",
       "std      14.911375   29112.792423     57.149431  12974.472718   \n",
       "min      18.000000   20016.000000    600.000000   5001.000000   \n",
       "25%      31.000000   44318.000000    651.000000  16387.000000   \n",
       "50%      43.000000   68777.000000    699.000000  27829.000000   \n",
       "75%      56.000000   95614.000000    748.000000  38773.000000   \n",
       "max      69.000000  119958.000000    799.000000  49998.000000   \n",
       "\n",
       "       Years at Current Job  Debt-to-Income Ratio   Assets Value  \\\n",
       "count           4700.000000           4700.000000    4009.000000   \n",
       "mean               9.527660              0.349977  160479.851833   \n",
       "std                5.788707              0.144018   80365.754374   \n",
       "min                0.000000              0.100347   20055.000000   \n",
       "25%                4.000000              0.223892   91365.000000   \n",
       "50%               10.000000              0.351161  160511.000000   \n",
       "75%               14.000000              0.476530  230133.000000   \n",
       "max               19.000000              0.599809  299999.000000   \n",
       "\n",
       "       Number of Dependents  Previous Defaults  Marital Status Change  \n",
       "count           3979.000000        3993.000000            4700.000000  \n",
       "mean               2.019603           1.964688               1.021489  \n",
       "std                1.414966           1.400689               0.814430  \n",
       "min                0.000000           0.000000               0.000000  \n",
       "25%                1.000000           1.000000               0.000000  \n",
       "50%                2.000000           2.000000               1.000000  \n",
       "75%                3.000000           3.000000               2.000000  \n",
       "max                4.000000           4.000000               2.000000  "
      ]
     },
     "execution_count": 16,
     "metadata": {},
     "output_type": "execute_result"
    }
   ],
   "source": [
    "# get more information about the numerical data\n",
    "dataset.describe()"
   ]
  },
  {
   "cell_type": "code",
   "execution_count": 18,
   "id": "1f0b294d-776d-4401-bd88-e6faba800032",
   "metadata": {
    "colab": {
     "base_uri": "https://localhost:8080/",
     "height": 209
    },
    "id": "1f0b294d-776d-4401-bd88-e6faba800032",
    "outputId": "0097dcce-4957-4921-e6dd-7bc4bebe0ede"
   },
   "outputs": [
    {
     "data": {
      "text/plain": [
       "Risk Rating\n",
       "Low       1800\n",
       "High      1500\n",
       "Medium    1400\n",
       "Name: count, dtype: int64"
      ]
     },
     "execution_count": 18,
     "metadata": {},
     "output_type": "execute_result"
    }
   ],
   "source": [
    "# how many of each data are there in the class column\n",
    "dataset[\"Risk Rating\"].value_counts()"
   ]
  },
  {
   "cell_type": "code",
   "execution_count": 20,
   "id": "16ed070f-bf73-4946-abb2-e64615d494d4",
   "metadata": {
    "colab": {
     "base_uri": "https://localhost:8080/",
     "height": 513
    },
    "id": "16ed070f-bf73-4946-abb2-e64615d494d4",
    "outputId": "d6edb1a0-1fb4-42d9-cded-166c966f33f1"
   },
   "outputs": [
    {
     "data": {
      "image/png": "[encoded data removed]",
      "text/plain": [
       "<Figure size 640x480 with 1 Axes>"
      ]
     },
     "metadata": {},
     "output_type": "display_data"
    }
   ],
   "source": [
    "# visualize the value counts\n",
    "dataset[\"Risk Rating\"].value_counts().plot(kind=\"bar\", color=[\"yellowgreen\", \"darkorange\", \"crimson\"])\n",
    "plt.title(\"Financial Risk Rating data counts\")\n",
    "plt.ylabel(\"Amounts of data\");"
   ]
  },
  {
   "cell_type": "markdown",
   "id": "f09e27e0-a159-4404-a84e-27687688c75d",
   "metadata": {
    "id": "f09e27e0-a159-4404-a84e-27687688c75d"
   },
   "source": [
    "There is a class imbalance that we will be delt with in the preprocessing section"
   ]
  },
  {
   "cell_type": "markdown",
   "id": "6d9a96a4-b784-4246-9fb5-3806a52d4b8f",
   "metadata": {
    "id": "6d9a96a4-b784-4246-9fb5-3806a52d4b8f"
   },
   "source": [
    "### Compare risk rating vs number of dependents"
   ]
  },
  {
   "cell_type": "code",
   "execution_count": 24,
   "id": "6fc3ddb6-2f05-4fb1-8f97-6bdad45d0a34",
   "metadata": {
    "colab": {
     "base_uri": "https://localhost:8080/",
     "height": 347
    },
    "id": "6fc3ddb6-2f05-4fb1-8f97-6bdad45d0a34",
    "outputId": "fb306afb-689e-477c-81f4-1e03ec0f0306"
   },
   "outputs": [
    {
     "data": {
      "text/html": [
       "<div>\n",
       "<style scoped>\n",
       "    .dataframe tbody tr th:only-of-type {\n",
       "        vertical-align: middle;\n",
       "    }\n",
       "\n",
       "    .dataframe tbody tr th {\n",
       "        vertical-align: top;\n",
       "    }\n",
       "\n",
       "    .dataframe thead th {\n",
       "        text-align: right;\n",
       "    }\n",
       "</style>\n",
       "<table border=\"1\" class=\"dataframe\">\n",
       "  <thead>\n",
       "    <tr style=\"text-align: right;\">\n",
       "      <th></th>\n",
       "      <th>Age</th>\n",
       "      <th>Gender</th>\n",
       "      <th>Education Level</th>\n",
       "      <th>Marital Status</th>\n",
       "      <th>Income</th>\n",
       "      <th>Credit Score</th>\n",
       "      <th>Loan Amount</th>\n",
       "      <th>Loan Purpose</th>\n",
       "      <th>Employment Status</th>\n",
       "      <th>Years at Current Job</th>\n",
       "      <th>Payment History</th>\n",
       "      <th>Debt-to-Income Ratio</th>\n",
       "      <th>Assets Value</th>\n",
       "      <th>Number of Dependents</th>\n",
       "      <th>City</th>\n",
       "      <th>State</th>\n",
       "      <th>Country</th>\n",
       "      <th>Previous Defaults</th>\n",
       "      <th>Marital Status Change</th>\n",
       "      <th>Risk Rating</th>\n",
       "    </tr>\n",
       "  </thead>\n",
       "  <tbody>\n",
       "    <tr>\n",
       "      <th>0</th>\n",
       "      <td>25</td>\n",
       "      <td>Male</td>\n",
       "      <td>Bachelor's</td>\n",
       "      <td>Widowed</td>\n",
       "      <td>NaN</td>\n",
       "      <td>796.0</td>\n",
       "      <td>26214.0</td>\n",
       "      <td>Personal</td>\n",
       "      <td>Employed</td>\n",
       "      <td>13</td>\n",
       "      <td>Good</td>\n",
       "      <td>0.176125</td>\n",
       "      <td>82186.0</td>\n",
       "      <td>2.0</td>\n",
       "      <td>North Hollyfort</td>\n",
       "      <td>NJ</td>\n",
       "      <td>Ireland</td>\n",
       "      <td>0.0</td>\n",
       "      <td>2</td>\n",
       "      <td>Low</td>\n",
       "    </tr>\n",
       "    <tr>\n",
       "      <th>1</th>\n",
       "      <td>64</td>\n",
       "      <td>Non-binary</td>\n",
       "      <td>High School</td>\n",
       "      <td>Divorced</td>\n",
       "      <td>85573.0</td>\n",
       "      <td>667.0</td>\n",
       "      <td>14241.0</td>\n",
       "      <td>Business</td>\n",
       "      <td>Employed</td>\n",
       "      <td>16</td>\n",
       "      <td>Fair</td>\n",
       "      <td>0.323489</td>\n",
       "      <td>230858.0</td>\n",
       "      <td>0.0</td>\n",
       "      <td>East Angelaburgh</td>\n",
       "      <td>AS</td>\n",
       "      <td>British Virgin Islands</td>\n",
       "      <td>1.0</td>\n",
       "      <td>1</td>\n",
       "      <td>Medium</td>\n",
       "    </tr>\n",
       "    <tr>\n",
       "      <th>2</th>\n",
       "      <td>37</td>\n",
       "      <td>Female</td>\n",
       "      <td>High School</td>\n",
       "      <td>Widowed</td>\n",
       "      <td>51979.0</td>\n",
       "      <td>NaN</td>\n",
       "      <td>NaN</td>\n",
       "      <td>Home</td>\n",
       "      <td>Employed</td>\n",
       "      <td>2</td>\n",
       "      <td>Fair</td>\n",
       "      <td>0.271581</td>\n",
       "      <td>197984.0</td>\n",
       "      <td>NaN</td>\n",
       "      <td>South Kevin</td>\n",
       "      <td>MH</td>\n",
       "      <td>France</td>\n",
       "      <td>4.0</td>\n",
       "      <td>0</td>\n",
       "      <td>High</td>\n",
       "    </tr>\n",
       "    <tr>\n",
       "      <th>3</th>\n",
       "      <td>59</td>\n",
       "      <td>Female</td>\n",
       "      <td>PhD</td>\n",
       "      <td>Divorced</td>\n",
       "      <td>95653.0</td>\n",
       "      <td>647.0</td>\n",
       "      <td>47580.0</td>\n",
       "      <td>Auto</td>\n",
       "      <td>Unemployed</td>\n",
       "      <td>3</td>\n",
       "      <td>Poor</td>\n",
       "      <td>0.133509</td>\n",
       "      <td>226984.0</td>\n",
       "      <td>3.0</td>\n",
       "      <td>Lamshire</td>\n",
       "      <td>KS</td>\n",
       "      <td>Mauritania</td>\n",
       "      <td>NaN</td>\n",
       "      <td>2</td>\n",
       "      <td>High</td>\n",
       "    </tr>\n",
       "    <tr>\n",
       "      <th>4</th>\n",
       "      <td>46</td>\n",
       "      <td>Male</td>\n",
       "      <td>Bachelor's</td>\n",
       "      <td>Single</td>\n",
       "      <td>NaN</td>\n",
       "      <td>NaN</td>\n",
       "      <td>NaN</td>\n",
       "      <td>Auto</td>\n",
       "      <td>Unemployed</td>\n",
       "      <td>0</td>\n",
       "      <td>Excellent</td>\n",
       "      <td>0.130810</td>\n",
       "      <td>67633.0</td>\n",
       "      <td>1.0</td>\n",
       "      <td>Chavezberg</td>\n",
       "      <td>MT</td>\n",
       "      <td>Northern Mariana Islands</td>\n",
       "      <td>1.0</td>\n",
       "      <td>2</td>\n",
       "      <td>High</td>\n",
       "    </tr>\n",
       "  </tbody>\n",
       "</table>\n",
       "</div>"
      ],
      "text/plain": [
       "   Age      Gender Education Level Marital Status   Income  Credit Score  \\\n",
       "0   25        Male      Bachelor's        Widowed      NaN         796.0   \n",
       "1   64  Non-binary     High School       Divorced  85573.0         667.0   \n",
       "2   37      Female     High School        Widowed  51979.0           NaN   \n",
       "3   59      Female             PhD       Divorced  95653.0         647.0   \n",
       "4   46        Male      Bachelor's         Single      NaN           NaN   \n",
       "\n",
       "   Loan Amount Loan Purpose Employment Status  Years at Current Job  \\\n",
       "0      26214.0     Personal          Employed                    13   \n",
       "1      14241.0     Business          Employed                    16   \n",
       "2          NaN         Home          Employed                     2   \n",
       "3      47580.0         Auto        Unemployed                     3   \n",
       "4          NaN         Auto        Unemployed                     0   \n",
       "\n",
       "  Payment History  Debt-to-Income Ratio  Assets Value  Number of Dependents  \\\n",
       "0            Good              0.176125       82186.0                   2.0   \n",
       "1            Fair              0.323489      230858.0                   0.0   \n",
       "2            Fair              0.271581      197984.0                   NaN   \n",
       "3            Poor              0.133509      226984.0                   3.0   \n",
       "4       Excellent              0.130810       67633.0                   1.0   \n",
       "\n",
       "               City State                   Country  Previous Defaults  \\\n",
       "0   North Hollyfort    NJ                   Ireland                0.0   \n",
       "1  East Angelaburgh    AS    British Virgin Islands                1.0   \n",
       "2       South Kevin    MH                    France                4.0   \n",
       "3          Lamshire    KS                Mauritania                NaN   \n",
       "4        Chavezberg    MT  Northern Mariana Islands                1.0   \n",
       "\n",
       "   Marital Status Change Risk Rating  \n",
       "0                      2         Low  \n",
       "1                      1      Medium  \n",
       "2                      0        High  \n",
       "3                      2        High  \n",
       "4                      2        High  "
      ]
     },
     "execution_count": 24,
     "metadata": {},
     "output_type": "execute_result"
    }
   ],
   "source": [
    "dataset.head()"
   ]
  },
  {
   "cell_type": "code",
   "execution_count": 26,
   "id": "0e60accf-97b9-473d-a6f0-f062ee436307",
   "metadata": {
    "colab": {
     "base_uri": "https://localhost:8080/",
     "height": 237
    },
    "id": "0e60accf-97b9-473d-a6f0-f062ee436307",
    "outputId": "e447644f-a27b-4348-bb39-f3f905cf4b06"
   },
   "outputs": [
    {
     "data": {
      "text/html": [
       "<div>\n",
       "<style scoped>\n",
       "    .dataframe tbody tr th:only-of-type {\n",
       "        vertical-align: middle;\n",
       "    }\n",
       "\n",
       "    .dataframe tbody tr th {\n",
       "        vertical-align: top;\n",
       "    }\n",
       "\n",
       "    .dataframe thead th {\n",
       "        text-align: right;\n",
       "    }\n",
       "</style>\n",
       "<table border=\"1\" class=\"dataframe\">\n",
       "  <thead>\n",
       "    <tr style=\"text-align: right;\">\n",
       "      <th>Risk Rating</th>\n",
       "      <th>High</th>\n",
       "      <th>Low</th>\n",
       "      <th>Medium</th>\n",
       "    </tr>\n",
       "    <tr>\n",
       "      <th>Number of Dependents</th>\n",
       "      <th></th>\n",
       "      <th></th>\n",
       "      <th></th>\n",
       "    </tr>\n",
       "  </thead>\n",
       "  <tbody>\n",
       "    <tr>\n",
       "      <th>0.0</th>\n",
       "      <td>246</td>\n",
       "      <td>274</td>\n",
       "      <td>241</td>\n",
       "    </tr>\n",
       "    <tr>\n",
       "      <th>1.0</th>\n",
       "      <td>276</td>\n",
       "      <td>323</td>\n",
       "      <td>237</td>\n",
       "    </tr>\n",
       "    <tr>\n",
       "      <th>2.0</th>\n",
       "      <td>240</td>\n",
       "      <td>307</td>\n",
       "      <td>224</td>\n",
       "    </tr>\n",
       "    <tr>\n",
       "      <th>3.0</th>\n",
       "      <td>247</td>\n",
       "      <td>307</td>\n",
       "      <td>232</td>\n",
       "    </tr>\n",
       "    <tr>\n",
       "      <th>4.0</th>\n",
       "      <td>260</td>\n",
       "      <td>312</td>\n",
       "      <td>253</td>\n",
       "    </tr>\n",
       "  </tbody>\n",
       "</table>\n",
       "</div>"
      ],
      "text/plain": [
       "Risk Rating           High  Low  Medium\n",
       "Number of Dependents                   \n",
       "0.0                    246  274     241\n",
       "1.0                    276  323     237\n",
       "2.0                    240  307     224\n",
       "3.0                    247  307     232\n",
       "4.0                    260  312     253"
      ]
     },
     "execution_count": 26,
     "metadata": {},
     "output_type": "execute_result"
    }
   ],
   "source": [
    "pd.crosstab(dataset[\"Number of Dependents\"], dataset[\"Risk Rating\"])"
   ]
  },
  {
   "cell_type": "code",
   "execution_count": 28,
   "id": "2894a693-3d2c-4776-91df-a81cc489a858",
   "metadata": {
    "colab": {
     "base_uri": "https://localhost:8080/",
     "height": 474
    },
    "id": "2894a693-3d2c-4776-91df-a81cc489a858",
    "outputId": "98a9d73d-c9a7-40dc-bba5-168955151345"
   },
   "outputs": [
    {
     "data": {
      "image/png": "[encoded data removed]",
      "text/plain": [
       "<Figure size 1000x600 with 1 Axes>"
      ]
     },
     "metadata": {},
     "output_type": "display_data"
    }
   ],
   "source": [
    "# Create a plot of crosstab\n",
    "pd.crosstab(dataset[\"Number of Dependents\"], dataset[\"Risk Rating\"]).plot(kind=\"bar\",\n",
    "                                                                    figsize=(10, 6),\n",
    "                                                                    color=[\"yellowgreen\", \"darkorange\", \"crimson\"])\n",
    "\n",
    "plt.title(\"Risk Rating Frequency for Denpendents Number\")\n",
    "plt.ylabel(\"Risk Amount\");\n"
   ]
  },
  {
   "cell_type": "markdown",
   "id": "5bea1b88-2faf-4c33-ac4e-60f0a8bbeda9",
   "metadata": {
    "id": "5bea1b88-2faf-4c33-ac4e-60f0a8bbeda9"
   },
   "source": [
    "### Gender Percentage"
   ]
  },
  {
   "cell_type": "code",
   "execution_count": 31,
   "id": "7f685170-f9b5-4757-a7d0-b57e80193c9c",
   "metadata": {
    "colab": {
     "base_uri": "https://localhost:8080/",
     "height": 444
    },
    "id": "7f685170-f9b5-4757-a7d0-b57e80193c9c",
    "outputId": "5ff979bb-a485-4147-e168-42e59490721b"
   },
   "outputs": [
    {
     "data": {
      "image/png": "[encoded data removed]",
      "text/plain": [
       "<Figure size 1000x500 with 1 Axes>"
      ]
     },
     "metadata": {},
     "output_type": "display_data"
    }
   ],
   "source": [
    "plt.figure(figsize=(10,5))\n",
    "dataset['Gender'].value_counts().sort_values(ascending=False)\\\n",
    ".plot(kind='pie',\n",
    "    labels=['Female','Non-binary','Male'],\n",
    "    colors=[\"yellowgreen\", \"darkorange\", \"crimson\"],\n",
    "    autopct='%1.2f%%')\n",
    "plt.title('Gender distribution in the data')\n",
    "plt.ylabel(\"\")\n",
    "plt.show()\n",
    "\n"
   ]
  },
  {
   "cell_type": "markdown",
   "id": "dd5c340c-5eff-45c8-b067-d4ad860045c2",
   "metadata": {
    "id": "dd5c340c-5eff-45c8-b067-d4ad860045c2"
   },
   "source": [
    "### Compare risk rating vs City"
   ]
  },
  {
   "cell_type": "code",
   "execution_count": 34,
   "id": "e8ef2549-7596-4768-9e48-f19ceb6a9fc8",
   "metadata": {
    "colab": {
     "base_uri": "https://localhost:8080/",
     "height": 347
    },
    "id": "e8ef2549-7596-4768-9e48-f19ceb6a9fc8",
    "outputId": "f08b12bc-19d4-46ea-f924-1bb83828369d"
   },
   "outputs": [
    {
     "data": {
      "text/html": [
       "<div>\n",
       "<style scoped>\n",
       "    .dataframe tbody tr th:only-of-type {\n",
       "        vertical-align: middle;\n",
       "    }\n",
       "\n",
       "    .dataframe tbody tr th {\n",
       "        vertical-align: top;\n",
       "    }\n",
       "\n",
       "    .dataframe thead th {\n",
       "        text-align: right;\n",
       "    }\n",
       "</style>\n",
       "<table border=\"1\" class=\"dataframe\">\n",
       "  <thead>\n",
       "    <tr style=\"text-align: right;\">\n",
       "      <th></th>\n",
       "      <th>Age</th>\n",
       "      <th>Gender</th>\n",
       "      <th>Education Level</th>\n",
       "      <th>Marital Status</th>\n",
       "      <th>Income</th>\n",
       "      <th>Credit Score</th>\n",
       "      <th>Loan Amount</th>\n",
       "      <th>Loan Purpose</th>\n",
       "      <th>Employment Status</th>\n",
       "      <th>Years at Current Job</th>\n",
       "      <th>Payment History</th>\n",
       "      <th>Debt-to-Income Ratio</th>\n",
       "      <th>Assets Value</th>\n",
       "      <th>Number of Dependents</th>\n",
       "      <th>City</th>\n",
       "      <th>State</th>\n",
       "      <th>Country</th>\n",
       "      <th>Previous Defaults</th>\n",
       "      <th>Marital Status Change</th>\n",
       "      <th>Risk Rating</th>\n",
       "    </tr>\n",
       "  </thead>\n",
       "  <tbody>\n",
       "    <tr>\n",
       "      <th>0</th>\n",
       "      <td>25</td>\n",
       "      <td>Male</td>\n",
       "      <td>Bachelor's</td>\n",
       "      <td>Widowed</td>\n",
       "      <td>NaN</td>\n",
       "      <td>796.0</td>\n",
       "      <td>26214.0</td>\n",
       "      <td>Personal</td>\n",
       "      <td>Employed</td>\n",
       "      <td>13</td>\n",
       "      <td>Good</td>\n",
       "      <td>0.176125</td>\n",
       "      <td>82186.0</td>\n",
       "      <td>2.0</td>\n",
       "      <td>North Hollyfort</td>\n",
       "      <td>NJ</td>\n",
       "      <td>Ireland</td>\n",
       "      <td>0.0</td>\n",
       "      <td>2</td>\n",
       "      <td>Low</td>\n",
       "    </tr>\n",
       "    <tr>\n",
       "      <th>1</th>\n",
       "      <td>64</td>\n",
       "      <td>Non-binary</td>\n",
       "      <td>High School</td>\n",
       "      <td>Divorced</td>\n",
       "      <td>85573.0</td>\n",
       "      <td>667.0</td>\n",
       "      <td>14241.0</td>\n",
       "      <td>Business</td>\n",
       "      <td>Employed</td>\n",
       "      <td>16</td>\n",
       "      <td>Fair</td>\n",
       "      <td>0.323489</td>\n",
       "      <td>230858.0</td>\n",
       "      <td>0.0</td>\n",
       "      <td>East Angelaburgh</td>\n",
       "      <td>AS</td>\n",
       "      <td>British Virgin Islands</td>\n",
       "      <td>1.0</td>\n",
       "      <td>1</td>\n",
       "      <td>Medium</td>\n",
       "    </tr>\n",
       "    <tr>\n",
       "      <th>2</th>\n",
       "      <td>37</td>\n",
       "      <td>Female</td>\n",
       "      <td>High School</td>\n",
       "      <td>Widowed</td>\n",
       "      <td>51979.0</td>\n",
       "      <td>NaN</td>\n",
       "      <td>NaN</td>\n",
       "      <td>Home</td>\n",
       "      <td>Employed</td>\n",
       "      <td>2</td>\n",
       "      <td>Fair</td>\n",
       "      <td>0.271581</td>\n",
       "      <td>197984.0</td>\n",
       "      <td>NaN</td>\n",
       "      <td>South Kevin</td>\n",
       "      <td>MH</td>\n",
       "      <td>France</td>\n",
       "      <td>4.0</td>\n",
       "      <td>0</td>\n",
       "      <td>High</td>\n",
       "    </tr>\n",
       "    <tr>\n",
       "      <th>3</th>\n",
       "      <td>59</td>\n",
       "      <td>Female</td>\n",
       "      <td>PhD</td>\n",
       "      <td>Divorced</td>\n",
       "      <td>95653.0</td>\n",
       "      <td>647.0</td>\n",
       "      <td>47580.0</td>\n",
       "      <td>Auto</td>\n",
       "      <td>Unemployed</td>\n",
       "      <td>3</td>\n",
       "      <td>Poor</td>\n",
       "      <td>0.133509</td>\n",
       "      <td>226984.0</td>\n",
       "      <td>3.0</td>\n",
       "      <td>Lamshire</td>\n",
       "      <td>KS</td>\n",
       "      <td>Mauritania</td>\n",
       "      <td>NaN</td>\n",
       "      <td>2</td>\n",
       "      <td>High</td>\n",
       "    </tr>\n",
       "    <tr>\n",
       "      <th>4</th>\n",
       "      <td>46</td>\n",
       "      <td>Male</td>\n",
       "      <td>Bachelor's</td>\n",
       "      <td>Single</td>\n",
       "      <td>NaN</td>\n",
       "      <td>NaN</td>\n",
       "      <td>NaN</td>\n",
       "      <td>Auto</td>\n",
       "      <td>Unemployed</td>\n",
       "      <td>0</td>\n",
       "      <td>Excellent</td>\n",
       "      <td>0.130810</td>\n",
       "      <td>67633.0</td>\n",
       "      <td>1.0</td>\n",
       "      <td>Chavezberg</td>\n",
       "      <td>MT</td>\n",
       "      <td>Northern Mariana Islands</td>\n",
       "      <td>1.0</td>\n",
       "      <td>2</td>\n",
       "      <td>High</td>\n",
       "    </tr>\n",
       "  </tbody>\n",
       "</table>\n",
       "</div>"
      ],
      "text/plain": [
       "   Age      Gender Education Level Marital Status   Income  Credit Score  \\\n",
       "0   25        Male      Bachelor's        Widowed      NaN         796.0   \n",
       "1   64  Non-binary     High School       Divorced  85573.0         667.0   \n",
       "2   37      Female     High School        Widowed  51979.0           NaN   \n",
       "3   59      Female             PhD       Divorced  95653.0         647.0   \n",
       "4   46        Male      Bachelor's         Single      NaN           NaN   \n",
       "\n",
       "   Loan Amount Loan Purpose Employment Status  Years at Current Job  \\\n",
       "0      26214.0     Personal          Employed                    13   \n",
       "1      14241.0     Business          Employed                    16   \n",
       "2          NaN         Home          Employed                     2   \n",
       "3      47580.0         Auto        Unemployed                     3   \n",
       "4          NaN         Auto        Unemployed                     0   \n",
       "\n",
       "  Payment History  Debt-to-Income Ratio  Assets Value  Number of Dependents  \\\n",
       "0            Good              0.176125       82186.0                   2.0   \n",
       "1            Fair              0.323489      230858.0                   0.0   \n",
       "2            Fair              0.271581      197984.0                   NaN   \n",
       "3            Poor              0.133509      226984.0                   3.0   \n",
       "4       Excellent              0.130810       67633.0                   1.0   \n",
       "\n",
       "               City State                   Country  Previous Defaults  \\\n",
       "0   North Hollyfort    NJ                   Ireland                0.0   \n",
       "1  East Angelaburgh    AS    British Virgin Islands                1.0   \n",
       "2       South Kevin    MH                    France                4.0   \n",
       "3          Lamshire    KS                Mauritania                NaN   \n",
       "4        Chavezberg    MT  Northern Mariana Islands                1.0   \n",
       "\n",
       "   Marital Status Change Risk Rating  \n",
       "0                      2         Low  \n",
       "1                      1      Medium  \n",
       "2                      0        High  \n",
       "3                      2        High  \n",
       "4                      2        High  "
      ]
     },
     "execution_count": 34,
     "metadata": {},
     "output_type": "execute_result"
    }
   ],
   "source": [
    "dataset.head()"
   ]
  },
  {
   "cell_type": "code",
   "execution_count": 36,
   "id": "42f71746-9522-41b4-a9c4-e3db29c80fca",
   "metadata": {
    "colab": {
     "base_uri": "https://localhost:8080/",
     "height": 519
    },
    "id": "42f71746-9522-41b4-a9c4-e3db29c80fca",
    "outputId": "122c4db5-0454-449c-8090-d83d92009c3f"
   },
   "outputs": [
    {
     "data": {
      "image/png": "[encoded data removed]",
      "text/plain": [
       "<Figure size 1000x600 with 1 Axes>"
      ]
     },
     "metadata": {},
     "output_type": "display_data"
    }
   ],
   "source": [
    "pd.crosstab(dataset[\"Gender\"], dataset[\"Risk Rating\"]).plot(kind=\"bar\",\n",
    "                                                            figsize=(10, 6),\n",
    "                                                            color=[\"yellowgreen\", \"darkorange\", \"crimson\"])\n",
    "\n",
    "plt.title(\"Risk Rating Frequency for Gender\")\n",
    "plt.ylabel(\"Risk Amount\");"
   ]
  },
  {
   "cell_type": "markdown",
   "id": "b46ebd59-4819-4c63-a9da-d6185bc7f724",
   "metadata": {
    "id": "b46ebd59-4819-4c63-a9da-d6185bc7f724"
   },
   "source": [
    "## 6. Preprocessing"
   ]
  },
  {
   "cell_type": "code",
   "execution_count": 39,
   "id": "6f7e1c65-94df-4310-928b-935a8cfd7ea9",
   "metadata": {
    "colab": {
     "base_uri": "https://localhost:8080/",
     "height": 634
    },
    "id": "6f7e1c65-94df-4310-928b-935a8cfd7ea9",
    "outputId": "62fb832b-8947-4ca8-8268-c5dac83884c4"
   },
   "outputs": [
    {
     "data": {
      "text/html": [
       "<div>\n",
       "<style scoped>\n",
       "    .dataframe tbody tr th:only-of-type {\n",
       "        vertical-align: middle;\n",
       "    }\n",
       "\n",
       "    .dataframe tbody tr th {\n",
       "        vertical-align: top;\n",
       "    }\n",
       "\n",
       "    .dataframe thead th {\n",
       "        text-align: right;\n",
       "    }\n",
       "</style>\n",
       "<table border=\"1\" class=\"dataframe\">\n",
       "  <thead>\n",
       "    <tr style=\"text-align: right;\">\n",
       "      <th></th>\n",
       "      <th>Age</th>\n",
       "      <th>Gender</th>\n",
       "      <th>Education Level</th>\n",
       "      <th>Marital Status</th>\n",
       "      <th>Income</th>\n",
       "      <th>Credit Score</th>\n",
       "      <th>Loan Amount</th>\n",
       "      <th>Loan Purpose</th>\n",
       "      <th>Employment Status</th>\n",
       "      <th>Years at Current Job</th>\n",
       "      <th>Payment History</th>\n",
       "      <th>Debt-to-Income Ratio</th>\n",
       "      <th>Assets Value</th>\n",
       "      <th>Number of Dependents</th>\n",
       "      <th>City</th>\n",
       "      <th>State</th>\n",
       "      <th>Country</th>\n",
       "      <th>Previous Defaults</th>\n",
       "      <th>Marital Status Change</th>\n",
       "      <th>Risk Rating</th>\n",
       "    </tr>\n",
       "  </thead>\n",
       "  <tbody>\n",
       "    <tr>\n",
       "      <th>0</th>\n",
       "      <td>25</td>\n",
       "      <td>Male</td>\n",
       "      <td>Bachelor's</td>\n",
       "      <td>Widowed</td>\n",
       "      <td>NaN</td>\n",
       "      <td>796.0</td>\n",
       "      <td>26214.0</td>\n",
       "      <td>Personal</td>\n",
       "      <td>Employed</td>\n",
       "      <td>13</td>\n",
       "      <td>Good</td>\n",
       "      <td>0.176125</td>\n",
       "      <td>82186.0</td>\n",
       "      <td>2.0</td>\n",
       "      <td>North Hollyfort</td>\n",
       "      <td>NJ</td>\n",
       "      <td>Ireland</td>\n",
       "      <td>0.0</td>\n",
       "      <td>2</td>\n",
       "      <td>Low</td>\n",
       "    </tr>\n",
       "    <tr>\n",
       "      <th>1</th>\n",
       "      <td>64</td>\n",
       "      <td>Non-binary</td>\n",
       "      <td>High School</td>\n",
       "      <td>Divorced</td>\n",
       "      <td>85573.0</td>\n",
       "      <td>667.0</td>\n",
       "      <td>14241.0</td>\n",
       "      <td>Business</td>\n",
       "      <td>Employed</td>\n",
       "      <td>16</td>\n",
       "      <td>Fair</td>\n",
       "      <td>0.323489</td>\n",
       "      <td>230858.0</td>\n",
       "      <td>0.0</td>\n",
       "      <td>East Angelaburgh</td>\n",
       "      <td>AS</td>\n",
       "      <td>British Virgin Islands</td>\n",
       "      <td>1.0</td>\n",
       "      <td>1</td>\n",
       "      <td>Medium</td>\n",
       "    </tr>\n",
       "    <tr>\n",
       "      <th>2</th>\n",
       "      <td>37</td>\n",
       "      <td>Female</td>\n",
       "      <td>High School</td>\n",
       "      <td>Widowed</td>\n",
       "      <td>51979.0</td>\n",
       "      <td>NaN</td>\n",
       "      <td>NaN</td>\n",
       "      <td>Home</td>\n",
       "      <td>Employed</td>\n",
       "      <td>2</td>\n",
       "      <td>Fair</td>\n",
       "      <td>0.271581</td>\n",
       "      <td>197984.0</td>\n",
       "      <td>NaN</td>\n",
       "      <td>South Kevin</td>\n",
       "      <td>MH</td>\n",
       "      <td>France</td>\n",
       "      <td>4.0</td>\n",
       "      <td>0</td>\n",
       "      <td>High</td>\n",
       "    </tr>\n",
       "    <tr>\n",
       "      <th>3</th>\n",
       "      <td>59</td>\n",
       "      <td>Female</td>\n",
       "      <td>PhD</td>\n",
       "      <td>Divorced</td>\n",
       "      <td>95653.0</td>\n",
       "      <td>647.0</td>\n",
       "      <td>47580.0</td>\n",
       "      <td>Auto</td>\n",
       "      <td>Unemployed</td>\n",
       "      <td>3</td>\n",
       "      <td>Poor</td>\n",
       "      <td>0.133509</td>\n",
       "      <td>226984.0</td>\n",
       "      <td>3.0</td>\n",
       "      <td>Lamshire</td>\n",
       "      <td>KS</td>\n",
       "      <td>Mauritania</td>\n",
       "      <td>NaN</td>\n",
       "      <td>2</td>\n",
       "      <td>High</td>\n",
       "    </tr>\n",
       "    <tr>\n",
       "      <th>4</th>\n",
       "      <td>46</td>\n",
       "      <td>Male</td>\n",
       "      <td>Bachelor's</td>\n",
       "      <td>Single</td>\n",
       "      <td>NaN</td>\n",
       "      <td>NaN</td>\n",
       "      <td>NaN</td>\n",
       "      <td>Auto</td>\n",
       "      <td>Unemployed</td>\n",
       "      <td>0</td>\n",
       "      <td>Excellent</td>\n",
       "      <td>0.130810</td>\n",
       "      <td>67633.0</td>\n",
       "      <td>1.0</td>\n",
       "      <td>Chavezberg</td>\n",
       "      <td>MT</td>\n",
       "      <td>Northern Mariana Islands</td>\n",
       "      <td>1.0</td>\n",
       "      <td>2</td>\n",
       "      <td>High</td>\n",
       "    </tr>\n",
       "    <tr>\n",
       "      <th>...</th>\n",
       "      <td>...</td>\n",
       "      <td>...</td>\n",
       "      <td>...</td>\n",
       "      <td>...</td>\n",
       "      <td>...</td>\n",
       "      <td>...</td>\n",
       "      <td>...</td>\n",
       "      <td>...</td>\n",
       "      <td>...</td>\n",
       "      <td>...</td>\n",
       "      <td>...</td>\n",
       "      <td>...</td>\n",
       "      <td>...</td>\n",
       "      <td>...</td>\n",
       "      <td>...</td>\n",
       "      <td>...</td>\n",
       "      <td>...</td>\n",
       "      <td>...</td>\n",
       "      <td>...</td>\n",
       "      <td>...</td>\n",
       "    </tr>\n",
       "    <tr>\n",
       "      <th>4695</th>\n",
       "      <td>63</td>\n",
       "      <td>Female</td>\n",
       "      <td>Master's</td>\n",
       "      <td>Married</td>\n",
       "      <td>62448.0</td>\n",
       "      <td>NaN</td>\n",
       "      <td>43759.0</td>\n",
       "      <td>Business</td>\n",
       "      <td>Employed</td>\n",
       "      <td>4</td>\n",
       "      <td>Poor</td>\n",
       "      <td>0.398517</td>\n",
       "      <td>170302.0</td>\n",
       "      <td>3.0</td>\n",
       "      <td>Pottsstad</td>\n",
       "      <td>SC</td>\n",
       "      <td>Lesotho</td>\n",
       "      <td>4.0</td>\n",
       "      <td>2</td>\n",
       "      <td>Low</td>\n",
       "    </tr>\n",
       "    <tr>\n",
       "      <th>4696</th>\n",
       "      <td>61</td>\n",
       "      <td>Female</td>\n",
       "      <td>High School</td>\n",
       "      <td>Divorced</td>\n",
       "      <td>31218.0</td>\n",
       "      <td>718.0</td>\n",
       "      <td>15915.0</td>\n",
       "      <td>Home</td>\n",
       "      <td>Self-employed</td>\n",
       "      <td>13</td>\n",
       "      <td>Poor</td>\n",
       "      <td>0.308266</td>\n",
       "      <td>NaN</td>\n",
       "      <td>NaN</td>\n",
       "      <td>Tiffanyborough</td>\n",
       "      <td>WI</td>\n",
       "      <td>Moldova</td>\n",
       "      <td>4.0</td>\n",
       "      <td>1</td>\n",
       "      <td>High</td>\n",
       "    </tr>\n",
       "    <tr>\n",
       "      <th>4697</th>\n",
       "      <td>65</td>\n",
       "      <td>Female</td>\n",
       "      <td>PhD</td>\n",
       "      <td>Married</td>\n",
       "      <td>78914.0</td>\n",
       "      <td>707.0</td>\n",
       "      <td>15559.0</td>\n",
       "      <td>Personal</td>\n",
       "      <td>Employed</td>\n",
       "      <td>7</td>\n",
       "      <td>Excellent</td>\n",
       "      <td>0.417227</td>\n",
       "      <td>62667.0</td>\n",
       "      <td>3.0</td>\n",
       "      <td>Lake Alicia</td>\n",
       "      <td>MA</td>\n",
       "      <td>Slovakia (Slovak Republic)</td>\n",
       "      <td>NaN</td>\n",
       "      <td>1</td>\n",
       "      <td>Low</td>\n",
       "    </tr>\n",
       "    <tr>\n",
       "      <th>4698</th>\n",
       "      <td>49</td>\n",
       "      <td>Female</td>\n",
       "      <td>Bachelor's</td>\n",
       "      <td>Married</td>\n",
       "      <td>118993.0</td>\n",
       "      <td>709.0</td>\n",
       "      <td>40512.0</td>\n",
       "      <td>Home</td>\n",
       "      <td>Unemployed</td>\n",
       "      <td>18</td>\n",
       "      <td>Excellent</td>\n",
       "      <td>0.371125</td>\n",
       "      <td>193007.0</td>\n",
       "      <td>1.0</td>\n",
       "      <td>South Robertland</td>\n",
       "      <td>MD</td>\n",
       "      <td>Syrian Arab Republic</td>\n",
       "      <td>4.0</td>\n",
       "      <td>2</td>\n",
       "      <td>Low</td>\n",
       "    </tr>\n",
       "    <tr>\n",
       "      <th>4699</th>\n",
       "      <td>64</td>\n",
       "      <td>Male</td>\n",
       "      <td>Bachelor's</td>\n",
       "      <td>Single</td>\n",
       "      <td>NaN</td>\n",
       "      <td>608.0</td>\n",
       "      <td>42616.0</td>\n",
       "      <td>Business</td>\n",
       "      <td>Unemployed</td>\n",
       "      <td>11</td>\n",
       "      <td>Excellent</td>\n",
       "      <td>0.487693</td>\n",
       "      <td>170556.0</td>\n",
       "      <td>2.0</td>\n",
       "      <td>North Michaelchester</td>\n",
       "      <td>AR</td>\n",
       "      <td>Mozambique</td>\n",
       "      <td>3.0</td>\n",
       "      <td>0</td>\n",
       "      <td>High</td>\n",
       "    </tr>\n",
       "  </tbody>\n",
       "</table>\n",
       "<p>4700 rows × 20 columns</p>\n",
       "</div>"
      ],
      "text/plain": [
       "      Age      Gender Education Level Marital Status    Income  Credit Score  \\\n",
       "0      25        Male      Bachelor's        Widowed       NaN         796.0   \n",
       "1      64  Non-binary     High School       Divorced   85573.0         667.0   \n",
       "2      37      Female     High School        Widowed   51979.0           NaN   \n",
       "3      59      Female             PhD       Divorced   95653.0         647.0   \n",
       "4      46        Male      Bachelor's         Single       NaN           NaN   \n",
       "...   ...         ...             ...            ...       ...           ...   \n",
       "4695   63      Female        Master's        Married   62448.0           NaN   \n",
       "4696   61      Female     High School       Divorced   31218.0         718.0   \n",
       "4697   65      Female             PhD        Married   78914.0         707.0   \n",
       "4698   49      Female      Bachelor's        Married  118993.0         709.0   \n",
       "4699   64        Male      Bachelor's         Single       NaN         608.0   \n",
       "\n",
       "      Loan Amount Loan Purpose Employment Status  Years at Current Job  \\\n",
       "0         26214.0     Personal          Employed                    13   \n",
       "1         14241.0     Business          Employed                    16   \n",
       "2             NaN         Home          Employed                     2   \n",
       "3         47580.0         Auto        Unemployed                     3   \n",
       "4             NaN         Auto        Unemployed                     0   \n",
       "...           ...          ...               ...                   ...   \n",
       "4695      43759.0     Business          Employed                     4   \n",
       "4696      15915.0         Home     Self-employed                    13   \n",
       "4697      15559.0     Personal          Employed                     7   \n",
       "4698      40512.0         Home        Unemployed                    18   \n",
       "4699      42616.0     Business        Unemployed                    11   \n",
       "\n",
       "     Payment History  Debt-to-Income Ratio  Assets Value  \\\n",
       "0               Good              0.176125       82186.0   \n",
       "1               Fair              0.323489      230858.0   \n",
       "2               Fair              0.271581      197984.0   \n",
       "3               Poor              0.133509      226984.0   \n",
       "4          Excellent              0.130810       67633.0   \n",
       "...              ...                   ...           ...   \n",
       "4695            Poor              0.398517      170302.0   \n",
       "4696            Poor              0.308266           NaN   \n",
       "4697       Excellent              0.417227       62667.0   \n",
       "4698       Excellent              0.371125      193007.0   \n",
       "4699       Excellent              0.487693      170556.0   \n",
       "\n",
       "      Number of Dependents                  City State  \\\n",
       "0                      2.0       North Hollyfort    NJ   \n",
       "1                      0.0      East Angelaburgh    AS   \n",
       "2                      NaN           South Kevin    MH   \n",
       "3                      3.0              Lamshire    KS   \n",
       "4                      1.0            Chavezberg    MT   \n",
       "...                    ...                   ...   ...   \n",
       "4695                   3.0             Pottsstad    SC   \n",
       "4696                   NaN        Tiffanyborough    WI   \n",
       "4697                   3.0           Lake Alicia    MA   \n",
       "4698                   1.0      South Robertland    MD   \n",
       "4699                   2.0  North Michaelchester    AR   \n",
       "\n",
       "                         Country  Previous Defaults  Marital Status Change  \\\n",
       "0                        Ireland                0.0                      2   \n",
       "1         British Virgin Islands                1.0                      1   \n",
       "2                         France                4.0                      0   \n",
       "3                     Mauritania                NaN                      2   \n",
       "4       Northern Mariana Islands                1.0                      2   \n",
       "...                          ...                ...                    ...   \n",
       "4695                     Lesotho                4.0                      2   \n",
       "4696                     Moldova                4.0                      1   \n",
       "4697  Slovakia (Slovak Republic)                NaN                      1   \n",
       "4698        Syrian Arab Republic                4.0                      2   \n",
       "4699                  Mozambique                3.0                      0   \n",
       "\n",
       "     Risk Rating  \n",
       "0            Low  \n",
       "1         Medium  \n",
       "2           High  \n",
       "3           High  \n",
       "4           High  \n",
       "...          ...  \n",
       "4695         Low  \n",
       "4696        High  \n",
       "4697         Low  \n",
       "4698         Low  \n",
       "4699        High  \n",
       "\n",
       "[4700 rows x 20 columns]"
      ]
     },
     "execution_count": 39,
     "metadata": {},
     "output_type": "execute_result"
    }
   ],
   "source": [
    "dataset"
   ]
  },
  {
   "cell_type": "code",
   "execution_count": 41,
   "id": "d71c1086-ac60-42d4-a572-a966dc0bd019",
   "metadata": {
    "colab": {
     "base_uri": "https://localhost:8080/",
     "height": 711
    },
    "id": "d71c1086-ac60-42d4-a572-a966dc0bd019",
    "outputId": "1afa578f-715a-4a6f-a0cc-cd09ecf51c16"
   },
   "outputs": [
    {
     "data": {
      "text/plain": [
       "Age                        0\n",
       "Gender                     0\n",
       "Education Level            0\n",
       "Marital Status             0\n",
       "Income                   735\n",
       "Credit Score             695\n",
       "Loan Amount              745\n",
       "Loan Purpose               0\n",
       "Employment Status          0\n",
       "Years at Current Job       0\n",
       "Payment History            0\n",
       "Debt-to-Income Ratio       0\n",
       "Assets Value             691\n",
       "Number of Dependents     721\n",
       "City                       0\n",
       "State                      0\n",
       "Country                    0\n",
       "Previous Defaults        707\n",
       "Marital Status Change      0\n",
       "Risk Rating                0\n",
       "dtype: int64"
      ]
     },
     "execution_count": 41,
     "metadata": {},
     "output_type": "execute_result"
    }
   ],
   "source": [
    "#finding missing values\n",
    "dataset.isnull().sum()"
   ]
  },
  {
   "cell_type": "code",
   "execution_count": 43,
   "id": "120ee2fe-dd93-46a3-b0d6-2fc75e6daf19",
   "metadata": {
    "colab": {
     "base_uri": "https://localhost:8080/"
    },
    "id": "120ee2fe-dd93-46a3-b0d6-2fc75e6daf19",
    "outputId": "08b96014-517b-4dee-e10a-27c28aa3991a"
   },
   "outputs": [
    {
     "name": "stdout",
     "output_type": "stream",
     "text": [
      "<class 'pandas.core.frame.DataFrame'>\n",
      "RangeIndex: 4700 entries, 0 to 4699\n",
      "Data columns (total 20 columns):\n",
      " #   Column                 Non-Null Count  Dtype  \n",
      "---  ------                 --------------  -----  \n",
      " 0   Age                    4700 non-null   int64  \n",
      " 1   Gender                 4700 non-null   object \n",
      " 2   Education Level        4700 non-null   object \n",
      " 3   Marital Status         4700 non-null   object \n",
      " 4   Income                 3965 non-null   float64\n",
      " 5   Credit Score           4005 non-null   float64\n",
      " 6   Loan Amount            3955 non-null   float64\n",
      " 7   Loan Purpose           4700 non-null   object \n",
      " 8   Employment Status      4700 non-null   object \n",
      " 9   Years at Current Job   4700 non-null   int64  \n",
      " 10  Payment History        4700 non-null   object \n",
      " 11  Debt-to-Income Ratio   4700 non-null   float64\n",
      " 12  Assets Value           4009 non-null   float64\n",
      " 13  Number of Dependents   3979 non-null   float64\n",
      " 14  City                   4700 non-null   object \n",
      " 15  State                  4700 non-null   object \n",
      " 16  Country                4700 non-null   object \n",
      " 17  Previous Defaults      3993 non-null   float64\n",
      " 18  Marital Status Change  4700 non-null   int64  \n",
      " 19  Risk Rating            4700 non-null   object \n",
      "dtypes: float64(7), int64(3), object(10)\n",
      "memory usage: 734.5+ KB\n"
     ]
    }
   ],
   "source": [
    "dataset.info()"
   ]
  },
  {
   "cell_type": "markdown",
   "id": "e291b0d4-fb6f-4baa-abb8-c8bdcf2ad141",
   "metadata": {
    "id": "e291b0d4-fb6f-4baa-abb8-c8bdcf2ad141"
   },
   "source": [
    "Replacing Missing Values"
   ]
  },
  {
   "cell_type": "code",
   "execution_count": 46,
   "id": "eafe7299-4ec9-4008-b082-5a3ff102843b",
   "metadata": {},
   "outputs": [
    {
     "name": "stderr",
     "output_type": "stream",
     "text": [
      "C:\\Users\\User\\AppData\\Local\\Temp\\ipykernel_26168\\364582021.py:9: FutureWarning: A value is trying to be set on a copy of a DataFrame or Series through chained assignment using an inplace method.\n",
      "The behavior will change in pandas 3.0. This inplace method will never work because the intermediate object on which we are setting values always behaves as a copy.\n",
      "\n",
      "For example, when doing 'df[col].method(value, inplace=True)', try using 'df.method({col: value}, inplace=True)' or df[col] = df[col].method(value) instead, to perform the operation inplace on the original object.\n",
      "\n",
      "\n",
      "  dataset['Number of Dependents'].fillna(dataset['Number of Dependents'].median(), inplace=True)\n"
     ]
    }
   ],
   "source": [
    "from sklearn.impute import KNNImputer\n",
    "\n",
    "# Stratified median imputation\n",
    "dataset['Income'] = dataset.groupby('Risk Rating')['Income'].transform(lambda x: x.fillna(x.median()))\n",
    "dataset['Credit Score'] = dataset.groupby('Risk Rating')['Credit Score'].transform(lambda x: x.fillna(x.median()))\n",
    "dataset['Loan Amount'] = dataset.groupby('Risk Rating')['Loan Amount'].transform(lambda x: x.fillna(x.median()))\n",
    "dataset['Assets Value'] = dataset.groupby('Risk Rating')['Assets Value'].transform(lambda x: x.fillna(x.median()))\n",
    "dataset['Previous Defaults'] = dataset.groupby('Risk Rating')['Previous Defaults'].transform(lambda x: x.fillna(x.median()))\n",
    "dataset['Number of Dependents'].fillna(dataset['Number of Dependents'].median(), inplace=True)\n",
    "\n",
    "#imputer = KNNImputer(n_neighbors=5)\n",
    "#dataset[['Number of Dependents']] = imputer.fit_transform(dataset[['Number of Dependents']])\n",
    "\n"
   ]
  },
  {
   "cell_type": "code",
   "execution_count": 47,
   "id": "160589e4-e298-4be3-af9f-736a5b65de92",
   "metadata": {},
   "outputs": [
    {
     "name": "stdout",
     "output_type": "stream",
     "text": [
      "Age                      0\n",
      "Gender                   0\n",
      "Education Level          0\n",
      "Marital Status           0\n",
      "Income                   0\n",
      "Credit Score             0\n",
      "Loan Amount              0\n",
      "Loan Purpose             0\n",
      "Employment Status        0\n",
      "Years at Current Job     0\n",
      "Payment History          0\n",
      "Debt-to-Income Ratio     0\n",
      "Assets Value             0\n",
      "Number of Dependents     0\n",
      "City                     0\n",
      "State                    0\n",
      "Country                  0\n",
      "Previous Defaults        0\n",
      "Marital Status Change    0\n",
      "Risk Rating              0\n",
      "dtype: int64\n"
     ]
    }
   ],
   "source": [
    "# Check if any missing values remain\n",
    "print(dataset.isnull().sum())\n"
   ]
  },
  {
   "cell_type": "code",
   "execution_count": 50,
   "id": "1f30bf10-5676-4b3a-814a-f1bb1f3b1402",
   "metadata": {
    "colab": {
     "base_uri": "https://localhost:8080/"
    },
    "id": "1f30bf10-5676-4b3a-814a-f1bb1f3b1402",
    "outputId": "c8e50081-3dcc-46f6-e204-47ab4714f6ea"
   },
   "outputs": [
    {
     "data": {
      "text/plain": [
       "(4700, 20)"
      ]
     },
     "execution_count": 50,
     "metadata": {},
     "output_type": "execute_result"
    }
   ],
   "source": [
    "dataset.shape"
   ]
  },
  {
   "cell_type": "code",
   "execution_count": 52,
   "id": "0a154c68-93ad-488c-a7f6-a67aabb35974",
   "metadata": {},
   "outputs": [
    {
     "name": "stdout",
     "output_type": "stream",
     "text": [
      "Age                      0\n",
      "Gender                   0\n",
      "Education Level          0\n",
      "Marital Status           0\n",
      "Income                   0\n",
      "Credit Score             0\n",
      "Loan Amount              0\n",
      "Loan Purpose             0\n",
      "Employment Status        0\n",
      "Years at Current Job     0\n",
      "Payment History          0\n",
      "Debt-to-Income Ratio     0\n",
      "Assets Value             0\n",
      "Number of Dependents     0\n",
      "City                     0\n",
      "State                    0\n",
      "Country                  0\n",
      "Previous Defaults        0\n",
      "Marital Status Change    0\n",
      "Risk Rating              0\n",
      "dtype: int64\n"
     ]
    }
   ],
   "source": [
    "# Check for outliers\n",
    "from scipy.stats import zscore\n",
    "\n",
    "dataset_copy = dataset.copy()\n",
    "numeric_columns = dataset_copy.select_dtypes(include=[np.number]).columns\n",
    "dataset_copy[numeric_columns] = dataset_copy[numeric_columns].apply(zscore)\n",
    "threshold = 3\n",
    "outliers = dataset_copy[(np.abs(dataset_copy[numeric_columns]) > threshold).any(axis=1)]\n",
    "print(outliers.count())"
   ]
  },
  {
   "cell_type": "markdown",
   "id": "102d3172-01ce-41fb-ba66-61e1a2f71038",
   "metadata": {},
   "source": [
    "There are no outliers in the dataset"
   ]
  },
  {
   "cell_type": "code",
   "execution_count": 55,
   "id": "179a13b4-9d1f-40ca-bb7a-ffaaba68596f",
   "metadata": {
    "id": "179a13b4-9d1f-40ca-bb7a-ffaaba68596f"
   },
   "outputs": [],
   "source": [
    "#create dependent & independent variable vectors\n",
    "X = dataset.drop('Risk Rating', axis=1)\n",
    "y = dataset['Risk Rating']"
   ]
  },
  {
   "cell_type": "code",
   "execution_count": 57,
   "id": "18e6d244-b53d-4cc7-9acb-23bf31353b24",
   "metadata": {
    "colab": {
     "base_uri": "https://localhost:8080/"
    },
    "id": "18e6d244-b53d-4cc7-9acb-23bf31353b24",
    "outputId": "f1d4d014-8cef-4f3c-b02a-d9af79da8da8"
   },
   "outputs": [
    {
     "name": "stdout",
     "output_type": "stream",
     "text": [
      "Training set shape: X_train: (3760, 19), y_train: (3760,)\n",
      "Test set shape: X_test: (940, 19), y_test: (940,)\n"
     ]
    }
   ],
   "source": [
    "from sklearn.model_selection import train_test_split\n",
    "\n",
    "# Split the dataset into training and testing sets\n",
    "X_train, X_test, y_train, y_test = train_test_split(X, y, test_size=0.2, stratify = y, random_state=42)\n",
    "\n",
    "# Verify the shapes of the resulting datasets\n",
    "print(f\"Training set shape: X_train: {X_train.shape}, y_train: {y_train.shape}\")\n",
    "print(f\"Test set shape: X_test: {X_test.shape}, y_test: {y_test.shape}\")\n"
   ]
  },
  {
   "cell_type": "code",
   "execution_count": 59,
   "id": "5d9de1f9-fcf8-4247-a3bb-632077361877",
   "metadata": {},
   "outputs": [
    {
     "name": "stdout",
     "output_type": "stream",
     "text": [
      "[[0. 2. 1. ... 4. 0. 1.]\n",
      " [1. 2. 1. ... 2. 0. 2.]\n",
      " [1. 3. 1. ... 4. 0. 0.]\n",
      " ...\n",
      " [0. 3. 1. ... 0. 0. 1.]\n",
      " [2. 3. 3. ... 1. 0. 0.]\n",
      " [0. 1. 1. ... 1. 3. 0.]]\n"
     ]
    }
   ],
   "source": [
    "from sklearn.preprocessing import OrdinalEncoder\n",
    "from sklearn.compose import ColumnTransformer\n",
    "\n",
    "# Create the OrdinalEncoder\n",
    "ordinal_encoder = OrdinalEncoder(handle_unknown='use_encoded_value', unknown_value=-1)\n",
    "\n",
    "# Specify the categorical features\n",
    "categorical_features = ['Gender', 'Education Level', 'Marital Status', 'Loan Purpose',\n",
    "                        'Employment Status', 'Payment History', 'City', 'State', 'Country']\n",
    "\n",
    "# Create the ColumnTransformer with the OrdinalEncoder\n",
    "transformer = ColumnTransformer([(\"ordinal\", ordinal_encoder, categorical_features)],\n",
    "                                 remainder=\"passthrough\")\n",
    "\n",
    "# Fit the transformer on the training data\n",
    "transformer.fit(X_train)\n",
    "\n",
    "# Transform both training and validation data\n",
    "transformed_X_train = transformer.transform(X_train)\n",
    "transformed_X_test = transformer.transform(X_test)\n",
    "\n",
    "# Optionally convert to array if needed\n",
    "transformed_X_train_array = transformed_X_train  # No need for .toarray() as OrdinalEncoder outputs a dense array\n",
    "print(transformed_X_train_array)"
   ]
  },
  {
   "cell_type": "code",
   "execution_count": 61,
   "id": "8a0e719a-138d-419b-8a39-46fd04bfee7e",
   "metadata": {},
   "outputs": [
    {
     "data": {
      "text/plain": [
       "118       High\n",
       "764        Low\n",
       "3482    Medium\n",
       "2080      High\n",
       "2874    Medium\n",
       "         ...  \n",
       "895        Low\n",
       "2064      High\n",
       "3448       Low\n",
       "1975    Medium\n",
       "1074      High\n",
       "Name: Risk Rating, Length: 3760, dtype: object"
      ]
     },
     "execution_count": 61,
     "metadata": {},
     "output_type": "execute_result"
    }
   ],
   "source": [
    "y_train"
   ]
  },
  {
   "cell_type": "code",
   "execution_count": 63,
   "id": "c11b68f1-7933-43de-bd04-95a35dc6ecf3",
   "metadata": {},
   "outputs": [
    {
     "data": {
      "text/plain": [
       "Index(['Age', 'Gender', 'Education Level', 'Marital Status', 'Income',\n",
       "       'Credit Score', 'Loan Amount', 'Loan Purpose', 'Employment Status',\n",
       "       'Years at Current Job', 'Payment History', 'Debt-to-Income Ratio',\n",
       "       'Assets Value', 'Number of Dependents', 'City', 'State', 'Country',\n",
       "       'Previous Defaults', 'Marital Status Change'],\n",
       "      dtype='object')"
      ]
     },
     "execution_count": 63,
     "metadata": {},
     "output_type": "execute_result"
    }
   ],
   "source": [
    "X_train_column_names = X_train.columns\n",
    "X_train_column_names"
   ]
  },
  {
   "cell_type": "code",
   "execution_count": 65,
   "id": "bfa90597-6d72-41b7-a4ec-5b661a24ea2e",
   "metadata": {
    "colab": {
     "base_uri": "https://localhost:8080/",
     "height": 680
    },
    "id": "bfa90597-6d72-41b7-a4ec-5b661a24ea2e",
    "outputId": "f4c6ed0b-cb9d-45c3-c130-a42cfd28ebed"
   },
   "outputs": [
    {
     "data": {
      "text/plain": [
       "Age                        int64\n",
       "Gender                    object\n",
       "Education Level           object\n",
       "Marital Status            object\n",
       "Income                   float64\n",
       "Credit Score             float64\n",
       "Loan Amount              float64\n",
       "Loan Purpose              object\n",
       "Employment Status         object\n",
       "Years at Current Job       int64\n",
       "Payment History           object\n",
       "Debt-to-Income Ratio     float64\n",
       "Assets Value             float64\n",
       "Number of Dependents     float64\n",
       "City                      object\n",
       "State                     object\n",
       "Country                   object\n",
       "Previous Defaults        float64\n",
       "Marital Status Change      int64\n",
       "dtype: object"
      ]
     },
     "execution_count": 65,
     "metadata": {},
     "output_type": "execute_result"
    }
   ],
   "source": [
    "X_train.dtypes"
   ]
  },
  {
   "cell_type": "code",
   "execution_count": 67,
   "id": "178ab543-e900-4d8a-acf9-90803daada4c",
   "metadata": {},
   "outputs": [],
   "source": [
    "from sklearn.preprocessing import LabelEncoder\n",
    "\n",
    "# Initialize LabelEncoder\n",
    "encoder = LabelEncoder()\n",
    "\n",
    "# Encode the target variable\n",
    "y_train_encoded = encoder.fit_transform(y_train)\n",
    "y_test_encoded = encoder.transform(y_test)\n",
    "\n"
   ]
  },
  {
   "cell_type": "code",
   "execution_count": 69,
   "id": "499622d7-5a62-4632-9369-47ca8b3ab2fc",
   "metadata": {
    "colab": {
     "base_uri": "https://localhost:8080/"
    },
    "id": "499622d7-5a62-4632-9369-47ca8b3ab2fc",
    "outputId": "abe43c7d-53bb-4c4a-ca1d-937a45e5c819"
   },
   "outputs": [
    {
     "data": {
      "image/png": "[encoded data removed]",
      "text/plain": [
       "<Figure size 1200x600 with 2 Axes>"
      ]
     },
     "metadata": {},
     "output_type": "display_data"
    },
    {
     "name": "stdout",
     "output_type": "stream",
     "text": [
      "Number of samples removed by Random Under-Sampling: 400\n",
      "\n",
      "Class distribution before Random Under-Sampling:\n",
      "Class 0: 1200\n",
      "Class 1: 1440\n",
      "Class 2: 1120\n",
      "\n",
      "Class distribution after Random Under-Sampling:\n",
      "Class 0: 1120\n",
      "Class 1: 1120\n",
      "Class 2: 1120\n"
     ]
    }
   ],
   "source": [
    "import matplotlib.pyplot as plt\n",
    "from collections import Counter\n",
    "from imblearn.under_sampling import RandomUnderSampler\n",
    "\n",
    "# Apply Random Under-Sampling to the encoded training data\n",
    "rus = RandomUnderSampler(sampling_strategy='auto', random_state=42)\n",
    "X_train_resampled, y_train_resampled = rus.fit_resample(transformed_X_train, y_train_encoded)\n",
    "\n",
    "# Check class distribution before and after Random Under-Sampling\n",
    "class_counts_before = Counter(y_train_encoded)\n",
    "class_counts_after = Counter(y_train_resampled)\n",
    "\n",
    "# Plot class distribution before and after Random Under-Sampling\n",
    "fig, ax = plt.subplots(1, 2, figsize=(12, 6))\n",
    "\n",
    "# Plot class distribution before Random Under-Sampling\n",
    "ax[0].bar(class_counts_before.keys(), class_counts_before.values(), color='teal')\n",
    "ax[0].set_title('Class Distribution Before Random Under-Sampling')\n",
    "ax[0].set_xlabel('Class')\n",
    "ax[0].set_ylabel('Number of Samples')\n",
    "\n",
    "# Plot class distribution after Random Under-Sampling\n",
    "ax[1].bar(class_counts_after.keys(), class_counts_after.values(), color='coral')\n",
    "ax[1].set_title('Class Distribution After Random Under-Sampling')\n",
    "ax[1].set_xlabel('Class')\n",
    "ax[1].set_ylabel('Number of Samples')\n",
    "\n",
    "plt.tight_layout()\n",
    "plt.show()\n",
    "\n",
    "# Print the number of samples removed\n",
    "samples_removed = sum(class_counts_before.values()) - sum(class_counts_after.values())\n",
    "print(f\"Number of samples removed by Random Under-Sampling: {samples_removed}\")\n",
    "\n",
    "# Print class distribution details\n",
    "print(\"\\nClass distribution before Random Under-Sampling:\")\n",
    "for class_label, count in class_counts_before.items():\n",
    "    print(f\"Class {class_label}: {count}\")\n",
    "\n",
    "print(\"\\nClass distribution after Random Under-Sampling:\")\n",
    "for class_label, count in class_counts_after.items():\n",
    "    print(f\"Class {class_label}: {count}\")\n"
   ]
  },
  {
   "cell_type": "code",
   "execution_count": 70,
   "id": "bcc3bf1f-50a3-4e0f-a162-3ee691ed7e04",
   "metadata": {
    "colab": {
     "base_uri": "https://localhost:8080/"
    },
    "id": "bcc3bf1f-50a3-4e0f-a162-3ee691ed7e04",
    "outputId": "e61a5bae-9306-4689-dfb2-db0ec2049dba"
   },
   "outputs": [
    {
     "data": {
      "text/plain": [
       "(3360,)"
      ]
     },
     "execution_count": 70,
     "metadata": {},
     "output_type": "execute_result"
    }
   ],
   "source": [
    "y_train_resampled.shape"
   ]
  },
  {
   "cell_type": "code",
   "execution_count": 71,
   "id": "97f6a8f4-a698-4b3a-bd0a-522202528cba",
   "metadata": {
    "colab": {
     "base_uri": "https://localhost:8080/"
    },
    "id": "97f6a8f4-a698-4b3a-bd0a-522202528cba",
    "outputId": "f898aa29-7d85-4f8c-ea26-25981fc4d582"
   },
   "outputs": [
    {
     "data": {
      "text/plain": [
       "(3360, 19)"
      ]
     },
     "execution_count": 71,
     "metadata": {},
     "output_type": "execute_result"
    }
   ],
   "source": [
    "X_train_resampled.shape"
   ]
  },
  {
   "cell_type": "code",
   "execution_count": 75,
   "id": "448ef557-cf9d-4f68-aaf6-1e5930f86fe3",
   "metadata": {
    "id": "448ef557-cf9d-4f68-aaf6-1e5930f86fe3"
   },
   "outputs": [],
   "source": [
    "from sklearn.preprocessing import MaxAbsScaler\n",
    "\n",
    "# Initialize MaxAbsScaler\n",
    "scaler = MaxAbsScaler()\n",
    "\n",
    "# Scale the resampled training data and the test data\n",
    "X_train_resampled_scaled = scaler.fit_transform(X_train_resampled)\n",
    "X_test_scaled = scaler.transform(transformed_X_test)\n",
    "\n"
   ]
  },
  {
   "cell_type": "code",
   "execution_count": 77,
   "id": "db985b88-191d-4f64-b844-b5f6a64357b7",
   "metadata": {},
   "outputs": [],
   "source": [
    "X_train = X_train_resampled_scaled\n",
    "X_test = X_test_scaled\n",
    "\n",
    "y_train = y_train_resampled\n",
    "y_test = y_test_encoded"
   ]
  },
  {
   "cell_type": "code",
   "execution_count": 79,
   "id": "753bdc14-6e8f-423e-be19-695a236ef2f7",
   "metadata": {
    "colab": {
     "base_uri": "https://localhost:8080/"
    },
    "id": "753bdc14-6e8f-423e-be19-695a236ef2f7",
    "outputId": "b8db44d7-fd09-4dfc-c401-eefc991751a4"
   },
   "outputs": [
    {
     "data": {
      "text/plain": [
       "(array([0, 0, 0, ..., 2, 2, 2]), (3360,))"
      ]
     },
     "execution_count": 79,
     "metadata": {},
     "output_type": "execute_result"
    }
   ],
   "source": [
    "y_train, y_train.shape"
   ]
  },
  {
   "cell_type": "code",
   "execution_count": 81,
   "id": "df81fdcb-ddc4-460d-abdf-9b5f384e60ec",
   "metadata": {
    "colab": {
     "base_uri": "https://localhost:8080/"
    },
    "id": "df81fdcb-ddc4-460d-abdf-9b5f384e60ec",
    "outputId": "a2d31ad0-4eba-4175-e90b-fa9f2342a652"
   },
   "outputs": [
    {
     "name": "stdout",
     "output_type": "stream",
     "text": [
      "X_train shape:  (3360, 19)\n",
      "X_test shape:  (940, 19)\n",
      "y_train shape:  (3360,)\n",
      "y_test shape:  (940,)\n"
     ]
    }
   ],
   "source": [
    "print(\"X_train shape: \", X_train.shape)\n",
    "print(\"X_test shape: \", X_test.shape)\n",
    "print(\"y_train shape: \", y_train.shape)\n",
    "print(\"y_test shape: \", y_test.shape)"
   ]
  },
  {
   "cell_type": "code",
   "execution_count": 83,
   "id": "798715c7-89ee-45b8-aac0-a7e8b4d05038",
   "metadata": {},
   "outputs": [
    {
     "data": {
      "text/plain": [
       "19"
      ]
     },
     "execution_count": 83,
     "metadata": {},
     "output_type": "execute_result"
    }
   ],
   "source": [
    "len(X_train_column_names)"
   ]
  },
  {
   "cell_type": "code",
   "execution_count": 85,
   "id": "9b393b9d-e59b-4b33-b2be-35ae97ee1e18",
   "metadata": {},
   "outputs": [],
   "source": [
    "## feature selection\n",
    "from sklearn.feature_selection import mutual_info_classif\n",
    "\n",
    "mi_scores = mutual_info_classif(X_train, y_train)\n",
    "\n",
    "# Assuming X_train started as a DataFrame, you can convert it back\n",
    "X_train_df = pd.DataFrame(X_train, columns=X_train_column_names)  # Replace with your original column names\n",
    "\n",
    "mi_df = pd.DataFrame({'Feature': X_train_df.columns, 'MI Score': mi_scores})\n",
    "selected_features = mi_df[mi_df['MI Score'] > 0.1]"
   ]
  },
  {
   "cell_type": "code",
   "execution_count": 86,
   "id": "eb0b186f-9d92-4e7f-9248-8f485e711fd3",
   "metadata": {},
   "outputs": [
    {
     "data": {
      "text/plain": [
       "Text(0, 0.5, 'MI Score')"
      ]
     },
     "execution_count": 86,
     "metadata": {},
     "output_type": "execute_result"
    },
    {
     "data": {
      "image/png": "[encoded data removed]",
      "text/plain": [
       "<Figure size 640x480 with 1 Axes>"
      ]
     },
     "metadata": {},
     "output_type": "display_data"
    }
   ],
   "source": [
    "mi_df.set_index('Feature').plot(kind='bar', legend=False)\n",
    "\n",
    "plt.xlabel(\"Features\")\n",
    "plt.ylabel(\"MI Score\")"
   ]
  },
  {
   "cell_type": "code",
   "execution_count": 89,
   "id": "cae8408c-ce77-461d-80b8-28502443306e",
   "metadata": {},
   "outputs": [
    {
     "data": {
      "text/plain": [
       "array([0, 1, 2])"
      ]
     },
     "execution_count": 89,
     "metadata": {},
     "output_type": "execute_result"
    }
   ],
   "source": [
    "np.unique(y_train)"
   ]
  },
  {
   "cell_type": "code",
   "execution_count": 91,
   "id": "d4c1c20f-3264-401c-902e-8fbbef541d1b",
   "metadata": {},
   "outputs": [
    {
     "data": {
      "text/plain": [
       "((3360, 19), numpy.ndarray)"
      ]
     },
     "execution_count": 91,
     "metadata": {},
     "output_type": "execute_result"
    }
   ],
   "source": [
    "X_train.shape, type(X_train)"
   ]
  },
  {
   "cell_type": "code",
   "execution_count": 93,
   "id": "6ec8ab12-296d-40e9-9f4a-0136f47e3bed",
   "metadata": {},
   "outputs": [],
   "source": [
    "X_test_df = pd.DataFrame(X_test, columns=X_train_column_names)    # Convert to DataFrame\n",
    "\n",
    "# Use feature names from the selected_features\n",
    "X_train_selection = X_train_df[selected_features['Feature']]\n",
    "X_test_selection = X_test_df[selected_features['Feature']]"
   ]
  },
  {
   "cell_type": "markdown",
   "id": "e4deded0-c8f0-4948-a888-cd51a0fc1a79",
   "metadata": {
    "id": "e4deded0-c8f0-4948-a888-cd51a0fc1a79"
   },
   "source": [
    "Now the class imbalance, categorical value encoding and numerical value scaling has been complete. Let's go to model building"
   ]
  },
  {
   "cell_type": "markdown",
   "id": "88008598-7989-4000-bf1e-63f236ebd064",
   "metadata": {
    "id": "88008598-7989-4000-bf1e-63f236ebd064"
   },
   "source": [
    "### 7. Modeling"
   ]
  },
  {
   "cell_type": "markdown",
   "id": "dfad7532-0f13-48da-89e1-369b8378fd71",
   "metadata": {},
   "source": [
    "### XGBoost Model"
   ]
  },
  {
   "cell_type": "code",
   "execution_count": 98,
   "id": "4b58c80f-ab35-4f77-8053-e06ec0f1d6b3",
   "metadata": {},
   "outputs": [],
   "source": [
    "#!pip install xgboost"
   ]
  },
  {
   "cell_type": "code",
   "execution_count": 100,
   "id": "bc7501b4-a451-4a26-8946-aa9db60ac4c6",
   "metadata": {},
   "outputs": [
    {
     "name": "stderr",
     "output_type": "stream",
     "text": [
      "C:\\Users\\User\\anaconda3\\Lib\\site-packages\\xgboost\\core.py:158: UserWarning: [20:53:14] WARNING: C:\\buildkite-agent\\builds\\buildkite-windows-cpu-autoscaling-group-i-0015a694724fa8361-1\\xgboost\\xgboost-ci-windows\\src\\learner.cc:740: \n",
      "Parameters: { \"use_label_encoder\" } are not used.\n",
      "\n",
      "  warnings.warn(smsg, UserWarning)\n"
     ]
    }
   ],
   "source": [
    "from xgboost import XGBClassifier\n",
    "\n",
    "# Initialize the XGBoost model\n",
    "xgb_model = XGBClassifier(use_label_encoder=False, eval_metric='logloss', random_state=42)\n",
    "\n",
    "# Train the model on the resampled and scaled training data\n",
    "xgb_model.fit(X_train, y_train)\n",
    "\n",
    "# Make predictions on the training and test sets\n",
    "y_pred_train = xgb_model.predict(X_train)  # Predictions on training set\n",
    "y_pred_test = xgb_model.predict(X_test)  # Predictions on test set\n",
    "\n"
   ]
  },
  {
   "cell_type": "markdown",
   "id": "5124360c-63fc-43e1-874f-651c574d8163",
   "metadata": {},
   "source": [
    "Evaluation "
   ]
  },
  {
   "cell_type": "code",
   "execution_count": 106,
   "id": "a1b83b0f-29ab-463e-b55e-dc784174c8c5",
   "metadata": {},
   "outputs": [
    {
     "name": "stdout",
     "output_type": "stream",
     "text": [
      "Training Accuracy: 1.0\n",
      "Test Accuracy: 0.6606382978723404\n",
      "Classification Report on Test Set:\n",
      "              precision    recall  f1-score   support\n",
      "\n",
      "           0       0.72      0.59      0.65       300\n",
      "           1       0.69      0.71      0.70       360\n",
      "           2       0.58      0.68      0.62       280\n",
      "\n",
      "    accuracy                           0.66       940\n",
      "   macro avg       0.66      0.66      0.66       940\n",
      "weighted avg       0.67      0.66      0.66       940\n",
      "\n",
      "\n",
      "Classification Report for Training Set:\n",
      "              precision    recall  f1-score   support\n",
      "\n",
      "           0       1.00      1.00      1.00      1120\n",
      "           1       1.00      1.00      1.00      1120\n",
      "           2       1.00      1.00      1.00      1120\n",
      "\n",
      "    accuracy                           1.00      3360\n",
      "   macro avg       1.00      1.00      1.00      3360\n",
      "weighted avg       1.00      1.00      1.00      3360\n",
      "\n",
      "Confusion Matrix on Test Set:\n",
      "[[177  53  70]\n",
      " [ 37 255  68]\n",
      " [ 32  59 189]]\n"
     ]
    },
    {
     "data": {
      "image/png": "[encoded data removed]",
      "text/plain": [
       "<Figure size 800x500 with 1 Axes>"
      ]
     },
     "metadata": {},
     "output_type": "display_data"
    }
   ],
   "source": [
    "import matplotlib.pyplot as plt\n",
    "from sklearn.metrics import accuracy_score, confusion_matrix,classification_report\n",
    "\n",
    "# Accuracy on the training set\n",
    "train_accuracy = accuracy_score(y_train, y_pred_train)\n",
    "print(f\"Training Accuracy: {train_accuracy}\")\n",
    "\n",
    "# Accuracy on the test set\n",
    "test_accuracy = accuracy_score(y_test, y_pred_test)\n",
    "print(f\"Test Accuracy: {test_accuracy}\")\n",
    "\n",
    "# Classification report on the test & training set\n",
    "print(\"Classification Report on Test Set:\")\n",
    "print(classification_report(y_test, y_pred_test))\n",
    "\n",
    "print(\"\\nClassification Report for Training Set:\")\n",
    "print(classification_report(y_train, y_pred_train))\n",
    "\n",
    "# Confusion matrix on the test set\n",
    "print(\"Confusion Matrix on Test Set:\")\n",
    "print(confusion_matrix(y_test, y_pred_test))\n",
    "\n",
    "# Define the labels and accuracies for the bar chart\n",
    "labels = ['Training', 'Test']\n",
    "accuracies = [train_accuracy, test_accuracy]\n",
    "\n",
    "# Create the bar chart\n",
    "plt.figure(figsize=(8, 5))\n",
    "plt.bar(labels, accuracies, color=['blue', 'orange'])\n",
    "plt.ylim(0, 1)\n",
    "plt.ylabel('Accuracy Score')\n",
    "plt.title('Training vs Test Accuracy')\n",
    "# Show the accuracy values on top of the bars\n",
    "for i, v in enumerate(accuracies):\n",
    "    plt.text(i, v + 0.01, f\"{v:.4f}\", ha='center', fontsize=12)\n",
    "plt.show()"
   ]
  },
  {
   "cell_type": "code",
   "execution_count": 108,
   "id": "60c97a74-aa5e-43cb-baf6-daf8097fe0b6",
   "metadata": {},
   "outputs": [
    {
     "data": {
      "image/png": "[encoded data removed]",
      "text/plain": [
       "<Figure size 800x600 with 2 Axes>"
      ]
     },
     "metadata": {},
     "output_type": "display_data"
    }
   ],
   "source": [
    "# Import Seaborn\n",
    "import seaborn as sns\n",
    "cm = confusion_matrix(y_test, y_pred_test)\n",
    "\n",
    "# Plot the confusion matrix using seaborn\n",
    "plt.figure(figsize=(8,6))\n",
    "sns.heatmap(cm, annot=True, fmt=\"d\", cmap=\"Blues\", xticklabels=[0, 1, 2], yticklabels=[0, 1, 2])\n",
    "\n",
    "# Add labels, title and ticks\n",
    "plt.xlabel('Predicted Labels')\n",
    "plt.ylabel('True Labels')\n",
    "plt.title('Confusion Matrix for 3-Class Classification')\n",
    "plt.show()"
   ]
  },
  {
   "cell_type": "markdown",
   "id": "f15d8735-0166-4a1b-9596-feff9ebc6345",
   "metadata": {},
   "source": [
    "Hyper-Parameter Tuning"
   ]
  },
  {
   "cell_type": "code",
   "execution_count": 111,
   "id": "817c6443-0a46-45bd-b8ba-db4ce0e6685d",
   "metadata": {},
   "outputs": [
    {
     "name": "stdout",
     "output_type": "stream",
     "text": [
      "Fitting 8 folds for each of 10 candidates, totalling 80 fits\n"
     ]
    },
    {
     "name": "stderr",
     "output_type": "stream",
     "text": [
      "C:\\Users\\User\\anaconda3\\Lib\\site-packages\\xgboost\\core.py:158: UserWarning: [20:54:43] WARNING: C:\\buildkite-agent\\builds\\buildkite-windows-cpu-autoscaling-group-i-0015a694724fa8361-1\\xgboost\\xgboost-ci-windows\\src\\learner.cc:740: \n",
      "Parameters: { \"use_label_encoder\" } are not used.\n",
      "\n",
      "  warnings.warn(smsg, UserWarning)\n"
     ]
    },
    {
     "name": "stdout",
     "output_type": "stream",
     "text": [
      "Best Parameters: {'subsample': 0.6, 'reg_lambda': 2.0, 'reg_alpha': 2.0, 'n_estimators': 300, 'min_child_weight': 7, 'max_depth': 3, 'learning_rate': 0.05, 'colsample_bytree': 0.8}\n"
     ]
    },
    {
     "name": "stderr",
     "output_type": "stream",
     "text": [
      "C:\\Users\\User\\anaconda3\\Lib\\site-packages\\xgboost\\core.py:158: UserWarning: [20:54:44] WARNING: C:\\buildkite-agent\\builds\\buildkite-windows-cpu-autoscaling-group-i-0015a694724fa8361-1\\xgboost\\xgboost-ci-windows\\src\\learner.cc:740: \n",
      "Parameters: { \"use_label_encoder\" } are not used.\n",
      "\n",
      "  warnings.warn(smsg, UserWarning)\n"
     ]
    },
    {
     "name": "stdout",
     "output_type": "stream",
     "text": [
      "Best Model Training Accuracy: 0.8145833333333333\n",
      "Best Model Test Accuracy: 0.6702127659574468\n",
      "Classification Report on Test Set (Best Model):\n",
      "              precision    recall  f1-score   support\n",
      "\n",
      "           0       0.68      0.65      0.66       300\n",
      "           1       0.75      0.65      0.69       360\n",
      "           2       0.59      0.72      0.65       280\n",
      "\n",
      "    accuracy                           0.67       940\n",
      "   macro avg       0.67      0.67      0.67       940\n",
      "weighted avg       0.68      0.67      0.67       940\n",
      "\n",
      "\n",
      "Classification Report for Training Set:\n",
      "              precision    recall  f1-score   support\n",
      "\n",
      "           0       1.00      1.00      1.00      1120\n",
      "           1       1.00      1.00      1.00      1120\n",
      "           2       1.00      1.00      1.00      1120\n",
      "\n",
      "    accuracy                           1.00      3360\n",
      "   macro avg       1.00      1.00      1.00      3360\n",
      "weighted avg       1.00      1.00      1.00      3360\n",
      "\n",
      "\n",
      "Classification Report for Training Set:\n",
      "              precision    recall  f1-score   support\n",
      "\n",
      "           0       1.00      1.00      1.00      1120\n",
      "           1       1.00      1.00      1.00      1120\n",
      "           2       1.00      1.00      1.00      1120\n",
      "\n",
      "    accuracy                           1.00      3360\n",
      "   macro avg       1.00      1.00      1.00      3360\n",
      "weighted avg       1.00      1.00      1.00      3360\n",
      "\n",
      "Confusion Matrix on Test Set (Best Model):\n",
      "[[194  43  63]\n",
      " [ 51 234  75]\n",
      " [ 41  37 202]]\n"
     ]
    },
    {
     "data": {
      "image/png": "[encoded data removed]",
      "text/plain": [
       "<Figure size 800x600 with 1 Axes>"
      ]
     },
     "metadata": {},
     "output_type": "display_data"
    }
   ],
   "source": [
    "from sklearn.model_selection import RandomizedSearchCV\n",
    "from xgboost import XGBClassifier\n",
    "from sklearn.metrics import accuracy_score, classification_report, confusion_matrix\n",
    "\n",
    "# Define a smaller parameter distribution for RandomizedSearchCV\n",
    "param_dist = {\n",
    "    'n_estimators': [100, 200, 300],        \n",
    "    'max_depth': [3, 4],                    \n",
    "    'learning_rate': [0.01, 0.05],          \n",
    "    'subsample': [0.6, 0.8],                \n",
    "    'colsample_bytree': [0.6, 0.8],         \n",
    "    'min_child_weight': [5, 7],             \n",
    "    'reg_lambda': [2.0, 3.0, 4.0],          # Increasing L2 regularization\n",
    "    'reg_alpha': [1.0, 2.0]                 # Increasing L1 regularization\n",
    "}\n",
    "\n",
    "\n",
    "# Initialize the XGBoost model (no early stopping)\n",
    "xgb_model = XGBClassifier(use_label_encoder=False, eval_metric='mlogloss', random_state=42, objective='multi:softmax')\n",
    "\n",
    "# Initialize RandomizedSearchCV with fewer iterations\n",
    "random_search = RandomizedSearchCV(estimator=xgb_model, param_distributions=param_dist, \n",
    "                                   n_iter=10, cv=8, scoring='accuracy', random_state=42, verbose=1, n_jobs=-1)\n",
    "\n",
    "# Fit RandomizedSearchCV\n",
    "random_search.fit(X_train, y_train)\n",
    "\n",
    "# Get the best parameters from RandomizedSearchCV\n",
    "best_params = random_search.best_params_\n",
    "print(f\"Best Parameters: {best_params}\")\n",
    "\n",
    "# Train the model with the best parameters\n",
    "best_xbg_model = XGBClassifier(**best_params, use_label_encoder=False, eval_metric='mlogloss', random_state=42, objective='multi:softmax')\n",
    "\n",
    "# Train the model on the resampled and scaled training data\n",
    "best_xbg_model.fit(X_train, y_train)\n",
    "\n",
    "# Make predictions using the best model\n",
    "y_pred_train_best = best_xbg_model .predict(X_train)\n",
    "y_pred_test_best = best_xbg_model .predict(X_test)\n",
    "\n",
    "# Evaluate the best model\n",
    "train_accuracy_best = accuracy_score(y_train, y_pred_train_best)\n",
    "test_accuracy_best = accuracy_score(y_test, y_pred_test_best)\n",
    "\n",
    "print(f\"Best Model Training Accuracy: {train_accuracy_best}\")\n",
    "print(f\"Best Model Test Accuracy: {test_accuracy_best}\")\n",
    "\n",
    "# Classification report and confusion matrix for the best model\n",
    "print(\"Classification Report on Test Set (Best Model):\")\n",
    "print(classification_report(y_test, y_pred_test_best))\n",
    "\n",
    "print(\"\\nClassification Report for Training Set:\")\n",
    "print(classification_report(y_train, y_pred_train))\n",
    "\n",
    "print(\"\\nClassification Report for Training Set:\")\n",
    "print(classification_report(y_train, y_pred_train))\n",
    "\n",
    "print(\"Confusion Matrix on Test Set (Best Model):\")\n",
    "print(confusion_matrix(y_test, y_pred_test_best))\n",
    "\n",
    "# Accuracy values\n",
    "accuracies = [train_accuracy_best, test_accuracy_best]\n",
    "labels = ['Training Accuracy', 'Test Accuracy']\n",
    "\n",
    "# Create a bar chart\n",
    "plt.figure(figsize=(8, 6))\n",
    "plt.bar(labels, accuracies, color=['blue', 'orange'])\n",
    "plt.title('Training vs Test Accuracy')\n",
    "plt.ylabel('Accuracy')\n",
    "plt.ylim(0, 1)  \n",
    "\n",
    "# Show the accuracy values on top of the bars\n",
    "for i, v in enumerate(accuracies):\n",
    "    plt.text(i, v + 0.01, f\"{v:.4f}\", ha='center', fontsize=12)\n",
    "plt.show()"
   ]
  },
  {
   "cell_type": "code",
   "execution_count": 113,
   "id": "63401b5a-fc3f-4873-8336-e785ca060b6b",
   "metadata": {},
   "outputs": [
    {
     "data": {
      "image/png": "[encoded data removed]",
      "text/plain": [
       "<Figure size 800x600 with 2 Axes>"
      ]
     },
     "metadata": {},
     "output_type": "display_data"
    }
   ],
   "source": [
    "# Import Seaborn\n",
    "import seaborn as sns\n",
    "cm = confusion_matrix(y_test, y_pred_test_best)\n",
    "\n",
    "# Plot the confusion matrix using seaborn\n",
    "plt.figure(figsize=(8,6))\n",
    "sns.heatmap(cm, annot=True, fmt=\"d\", cmap=\"Blues\", xticklabels=[0, 1, 2], yticklabels=[0, 1, 2])\n",
    "\n",
    "# Add labels, title and ticks\n",
    "plt.xlabel('Predicted Labels')\n",
    "plt.ylabel('True Labels')\n",
    "plt.title('Confusion Matrix for 3-Class Classification')\n",
    "plt.show()"
   ]
  },
  {
   "cell_type": "markdown",
   "id": "909d3d45-54b7-4194-9f04-5d6046fbed76",
   "metadata": {},
   "source": [
    "### CatBoost Model"
   ]
  },
  {
   "cell_type": "code",
   "execution_count": 116,
   "id": "1d6732e6-838e-42e3-b0b9-ffd9cc16747d",
   "metadata": {},
   "outputs": [],
   "source": [
    "#!pip install catboost"
   ]
  },
  {
   "cell_type": "code",
   "execution_count": 118,
   "id": "f3e738d0-4a78-46ac-a310-0ff88694a76b",
   "metadata": {},
   "outputs": [
    {
     "name": "stdout",
     "output_type": "stream",
     "text": [
      "0:\tlearn: 1.0765736\ttotal: 171ms\tremaining: 2m 51s\n",
      "100:\tlearn: 0.6356946\ttotal: 1.21s\tremaining: 10.8s\n",
      "200:\tlearn: 0.4983685\ttotal: 2.28s\tremaining: 9.05s\n",
      "300:\tlearn: 0.4066013\ttotal: 3.28s\tremaining: 7.62s\n",
      "400:\tlearn: 0.3361482\ttotal: 4.29s\tremaining: 6.42s\n",
      "500:\tlearn: 0.2808093\ttotal: 5.38s\tremaining: 5.35s\n",
      "600:\tlearn: 0.2369152\ttotal: 6.5s\tremaining: 4.32s\n",
      "700:\tlearn: 0.2019905\ttotal: 7.55s\tremaining: 3.22s\n",
      "800:\tlearn: 0.1726302\ttotal: 8.56s\tremaining: 2.13s\n",
      "900:\tlearn: 0.1492847\ttotal: 9.57s\tremaining: 1.05s\n",
      "999:\tlearn: 0.1308129\ttotal: 10.6s\tremaining: 0us\n"
     ]
    }
   ],
   "source": [
    "from catboost import CatBoostClassifier\n",
    "\n",
    "# Initialize the CatBoost model\n",
    "catboost_model = CatBoostClassifier(iterations=1000, learning_rate=0.1, depth=6, random_seed=42, verbose=100)\n",
    "\n",
    "# Train the model on the resampled and scaled training data\n",
    "catboost_model.fit(X_train, y_train)\n",
    "\n",
    "# Make predictions on the training and test sets\n",
    "y_pred_train = catboost_model.predict(X_train)\n",
    "y_pred_test = catboost_model.predict(X_test)\n"
   ]
  },
  {
   "cell_type": "markdown",
   "id": "d937634a-4216-457f-9156-806db7f43d98",
   "metadata": {},
   "source": [
    "CatBoost model Evaluation"
   ]
  },
  {
   "cell_type": "code",
   "execution_count": 121,
   "id": "2bd3fecb-9a78-4037-a262-3bbd3984f78c",
   "metadata": {},
   "outputs": [
    {
     "name": "stdout",
     "output_type": "stream",
     "text": [
      "Training Accuracy: 0.999702380952381\n",
      "Test Accuracy: 0.6510638297872341\n",
      "Classification Report on Test Set:\n",
      "              precision    recall  f1-score   support\n",
      "\n",
      "           0       0.66      0.61      0.63       300\n",
      "           1       0.72      0.66      0.69       360\n",
      "           2       0.58      0.69      0.63       280\n",
      "\n",
      "    accuracy                           0.65       940\n",
      "   macro avg       0.65      0.65      0.65       940\n",
      "weighted avg       0.66      0.65      0.65       940\n",
      "\n",
      "\n",
      "Classification Report for Training Set:\n",
      "              precision    recall  f1-score   support\n",
      "\n",
      "           0       1.00      1.00      1.00      1120\n",
      "           1       1.00      1.00      1.00      1120\n",
      "           2       1.00      1.00      1.00      1120\n",
      "\n",
      "    accuracy                           1.00      3360\n",
      "   macro avg       1.00      1.00      1.00      3360\n",
      "weighted avg       1.00      1.00      1.00      3360\n",
      "\n",
      "Confusion Matrix on Test Set:\n",
      "[[182  47  71]\n",
      " [ 52 238  70]\n",
      " [ 43  45 192]]\n"
     ]
    },
    {
     "data": {
      "image/png": "[encoded data removed]",
      "text/plain": [
       "<Figure size 800x500 with 1 Axes>"
      ]
     },
     "metadata": {},
     "output_type": "display_data"
    }
   ],
   "source": [
    "import matplotlib.pyplot as plt\n",
    "from sklearn.metrics import accuracy_score, confusion_matrix\n",
    "\n",
    "# Accuracy on the training set\n",
    "train_accuracy = accuracy_score(y_train, y_pred_train)\n",
    "print(f\"Training Accuracy: {train_accuracy}\")\n",
    "\n",
    "# Accuracy on the test set\n",
    "test_accuracy = accuracy_score(y_test, y_pred_test)\n",
    "print(f\"Test Accuracy: {test_accuracy}\")\n",
    "\n",
    "# Classification report on the test & training set\n",
    "print(\"Classification Report on Test Set:\")\n",
    "print(classification_report(y_test, y_pred_test))\n",
    "\n",
    "print(\"\\nClassification Report for Training Set:\")\n",
    "print(classification_report(y_train, y_pred_train))\n",
    "\n",
    "# Confusion matrix on the test set\n",
    "print(\"Confusion Matrix on Test Set:\")\n",
    "print(confusion_matrix(y_test, y_pred_test))\n",
    "\n",
    "# Define the labels and accuracies for the bar chart\n",
    "labels = ['Training', 'Test']\n",
    "accuracies = [train_accuracy, test_accuracy]\n",
    "\n",
    "# Create the bar chart\n",
    "plt.figure(figsize=(8, 5))\n",
    "plt.bar(labels, accuracies, color=['green', 'orange'])\n",
    "plt.ylim(0, 1)\n",
    "plt.ylabel('Accuracy Score')\n",
    "plt.title('Training vs Test Accuracy')\n",
    "# Show the accuracy values on top of the bars\n",
    "for i, v in enumerate(accuracies):\n",
    "    plt.text(i, v + 0.01, f\"{v:.4f}\", ha='center', fontsize=12)\n",
    "plt.show()"
   ]
  },
  {
   "cell_type": "code",
   "execution_count": 123,
   "id": "1f4277e8-b062-47c0-956a-81ff76b5f318",
   "metadata": {},
   "outputs": [
    {
     "data": {
      "image/png": "[encoded data removed]",
      "text/plain": [
       "<Figure size 800x600 with 2 Axes>"
      ]
     },
     "metadata": {},
     "output_type": "display_data"
    }
   ],
   "source": [
    "# Import Seaborn\n",
    "import seaborn as sns\n",
    "cm = confusion_matrix(y_test, y_pred_test)\n",
    "\n",
    "# Plot the confusion matrix using seaborn\n",
    "plt.figure(figsize=(8,6))\n",
    "sns.heatmap(cm, annot=True, fmt=\"d\", cmap=\"Blues\", xticklabels=[0, 1, 2], yticklabels=[0, 1, 2])\n",
    "\n",
    "# Add labels, title and ticks\n",
    "plt.xlabel('Predicted Labels')\n",
    "plt.ylabel('True Labels')\n",
    "plt.title('Confusion Matrix for 3-Class Classification')\n",
    "plt.show()"
   ]
  },
  {
   "cell_type": "markdown",
   "id": "748f5b29-cea2-43b4-b168-2e56a51916f1",
   "metadata": {},
   "source": [
    "To get more Testing Accuracy let's do hyper parameter tuning"
   ]
  },
  {
   "cell_type": "code",
   "execution_count": 126,
   "id": "b256b35b-9715-458b-bbd2-01dec385c3aa",
   "metadata": {},
   "outputs": [
    {
     "name": "stdout",
     "output_type": "stream",
     "text": [
      "Fitting 10 folds for each of 10 candidates, totalling 100 fits\n",
      "0:\tlearn: 1.0800090\ttotal: 10.4ms\tremaining: 2.07s\n",
      "100:\tlearn: 0.6665182\ttotal: 915ms\tremaining: 897ms\n",
      "199:\tlearn: 0.5424477\ttotal: 1.77s\tremaining: 0us\n",
      "Best Parameters: {'learning_rate': 0.1, 'l2_leaf_reg': 7, 'iterations': 200, 'depth': 6, 'border_count': 128}\n",
      "Best Model Training Accuracy: 0.8851190476190476\n",
      "Best Model Test Accuracy: 0.6648936170212766\n",
      "Classification Report on Test Set (Best Model):\n",
      "              precision    recall  f1-score   support\n",
      "\n",
      "           0       0.68      0.63      0.65       300\n",
      "           1       0.72      0.68      0.70       360\n",
      "           2       0.60      0.69      0.64       280\n",
      "\n",
      "    accuracy                           0.66       940\n",
      "   macro avg       0.66      0.66      0.66       940\n",
      "weighted avg       0.67      0.66      0.67       940\n",
      "\n",
      "\n",
      "Classification Report for Training Set:\n",
      "              precision    recall  f1-score   support\n",
      "\n",
      "           0       1.00      1.00      1.00      1120\n",
      "           1       1.00      1.00      1.00      1120\n",
      "           2       1.00      1.00      1.00      1120\n",
      "\n",
      "    accuracy                           1.00      3360\n",
      "   macro avg       1.00      1.00      1.00      3360\n",
      "weighted avg       1.00      1.00      1.00      3360\n",
      "\n",
      "Confusion Matrix on Test Set (Best Model):\n",
      "[[189  48  63]\n",
      " [ 49 244  67]\n",
      " [ 42  46 192]]\n"
     ]
    },
    {
     "data": {
      "image/png": "[encoded data removed]",
      "text/plain": [
       "<Figure size 800x600 with 1 Axes>"
      ]
     },
     "metadata": {},
     "output_type": "display_data"
    }
   ],
   "source": [
    "from sklearn.model_selection import RandomizedSearchCV\n",
    "from catboost import CatBoostClassifier\n",
    "import matplotlib.pyplot as plt\n",
    "\n",
    "# Define the parameter grid\n",
    "param_dist = {\n",
    "    'iterations': [200,100],         # Number of trees\n",
    "    'depth': [4, 6, 8],                     # Depth of trees\n",
    "    'learning_rate': [0.01, 0.05, 0.1],     # Learning rate\n",
    "    'l2_leaf_reg': [5, 7, 10],            # L2 regularization term\n",
    "    'border_count': [32, 64, 128]           # Number of splits for numerical features\n",
    "}\n",
    "\n",
    "# Initialize the CatBoost model\n",
    "catboost_model = CatBoostClassifier(random_seed=42, verbose=100)\n",
    "\n",
    "# Initialize RandomizedSearchCV with 5-fold cross-validation\n",
    "random_search = RandomizedSearchCV(estimator=catboost_model, param_distributions=param_dist, \n",
    "                                   n_iter=10, cv=10, scoring='accuracy', random_state=42, verbose=1, n_jobs=-1)\n",
    "\n",
    "# Fit RandomizedSearchCV\n",
    "random_search.fit(X_train, y_train)\n",
    "\n",
    "# Get the best parameters from RandomizedSearchCV\n",
    "best_params = random_search.best_params_\n",
    "print(f\"Best Parameters: {best_params}\")\n",
    "\n",
    "# Train the model with the best parameters\n",
    "best_model = random_search.best_estimator_\n",
    "\n",
    "# Make predictions using the best model\n",
    "y_pred_train_best = best_model.predict(X_train)\n",
    "y_pred_test_best = best_model.predict(X_test)\n",
    "\n",
    "# Evaluate the best model\n",
    "train_accuracy_best = accuracy_score(y_train, y_pred_train_best)\n",
    "test_accuracy_best = accuracy_score(y_test, y_pred_test_best)\n",
    "\n",
    "print(f\"Best Model Training Accuracy: {train_accuracy_best}\")\n",
    "print(f\"Best Model Test Accuracy: {test_accuracy_best}\")\n",
    "\n",
    "# Classification report and confusion matrix for the best model\n",
    "print(\"Classification Report on Test Set (Best Model):\")\n",
    "print(classification_report(y_test, y_pred_test_best))\n",
    "\n",
    "print(\"\\nClassification Report for Training Set:\")\n",
    "print(classification_report(y_train, y_pred_train))\n",
    "\n",
    "print(\"Confusion Matrix on Test Set (Best Model):\")\n",
    "print(confusion_matrix(y_test, y_pred_test_best))\n",
    "\n",
    "# Accuracy values\n",
    "accuracies = [train_accuracy_best, test_accuracy_best]\n",
    "labels = ['Training Accuracy', 'Test Accuracy']\n",
    "\n",
    "# Create a bar chart\n",
    "plt.figure(figsize=(8, 6))\n",
    "plt.bar(labels, accuracies, color=['green', 'orange'])\n",
    "plt.title('Training vs Test Accuracy')\n",
    "plt.ylabel('Accuracy')\n",
    "plt.ylim(0, 1)  \n",
    "\n",
    "# Show the accuracy values on top of the bars\n",
    "for i, v in enumerate(accuracies):\n",
    "    plt.text(i, v + 0.01, f\"{v:.4f}\", ha='center', fontsize=12)\n",
    "\n",
    "# Display the plot\n",
    "plt.show()"
   ]
  },
  {
   "cell_type": "code",
   "execution_count": 127,
   "id": "f87b77ee-9f28-44b2-a6e8-d7df840cf813",
   "metadata": {},
   "outputs": [
    {
     "data": {
      "image/png": "[encoded data removed]",
      "text/plain": [
       "<Figure size 800x600 with 2 Axes>"
      ]
     },
     "metadata": {},
     "output_type": "display_data"
    }
   ],
   "source": [
    "# Import Seaborn\n",
    "import seaborn as sns\n",
    "cm = confusion_matrix(y_test, y_pred_test_best)\n",
    "\n",
    "# Plot the confusion matrix using seaborn\n",
    "plt.figure(figsize=(8,6))\n",
    "sns.heatmap(cm, annot=True, fmt=\"d\", cmap=\"Blues\", xticklabels=[0, 1, 2], yticklabels=[0, 1, 2])\n",
    "\n",
    "# Add labels, title and ticks\n",
    "plt.xlabel('Predicted Labels')\n",
    "plt.ylabel('True Labels')\n",
    "plt.title('Confusion Matrix for 3-Class Classification')\n",
    "plt.show()"
   ]
  },
  {
   "cell_type": "markdown",
   "id": "40229c64-b967-4088-aabc-1227c534f6b4",
   "metadata": {},
   "source": [
    "Random Forest Classification Model"
   ]
  },
  {
   "cell_type": "code",
   "execution_count": 131,
   "id": "4ee535d6-4dbf-4eee-ae1c-77d7a07bee39",
   "metadata": {},
   "outputs": [],
   "source": [
    "# Importing the necessary libraries\n",
    "from sklearn.ensemble import RandomForestClassifier\n",
    "from sklearn.metrics import accuracy_score\n",
    "\n",
    "# Initialize the Random Forest model\n",
    "rf_model = RandomForestClassifier(random_state=42)\n",
    "\n",
    "# Train the model\n",
    "rf_model.fit(X_train, y_train)\n",
    "\n",
    "# Make predictions\n",
    "y_pred_train = rf_model.predict(X_train)\n",
    "y_pred_test = rf_model.predict(X_test)"
   ]
  },
  {
   "cell_type": "code",
   "execution_count": 133,
   "id": "6fec66f6-c7e2-43d3-b710-d6e0848dd1dc",
   "metadata": {},
   "outputs": [
    {
     "name": "stdout",
     "output_type": "stream",
     "text": [
      "Training Accuracy: 1.0\n",
      "Test Accuracy: 0.6340425531914894\n"
     ]
    }
   ],
   "source": [
    "# Evaluation on training data\n",
    "print(\"Training Accuracy:\", accuracy_score(y_train, y_pred_train))\n",
    "\n",
    "# Evaluation on test data\n",
    "print(\"Test Accuracy:\", accuracy_score(y_test, y_pred_test))\n"
   ]
  },
  {
   "cell_type": "markdown",
   "id": "5aff97be-9979-4ada-855a-ed78c86b9a5b",
   "metadata": {},
   "source": [
    "Random Forest Classification Model Evaluation"
   ]
  },
  {
   "cell_type": "code",
   "execution_count": 136,
   "id": "59a77838-ff2c-4474-944f-9b222749e75d",
   "metadata": {},
   "outputs": [
    {
     "name": "stdout",
     "output_type": "stream",
     "text": [
      "Training Accuracy: 1.0\n",
      "Test Accuracy: 0.6340425531914894\n",
      "\n",
      "Classification Report for Training Set:\n",
      "              precision    recall  f1-score   support\n",
      "\n",
      "           0       1.00      1.00      1.00      1120\n",
      "           1       1.00      1.00      1.00      1120\n",
      "           2       1.00      1.00      1.00      1120\n",
      "\n",
      "    accuracy                           1.00      3360\n",
      "   macro avg       1.00      1.00      1.00      3360\n",
      "weighted avg       1.00      1.00      1.00      3360\n",
      "\n",
      "\n",
      "Classification Report for Test Set:\n",
      "              precision    recall  f1-score   support\n",
      "\n",
      "           0       0.62      0.59      0.60       300\n",
      "           1       0.72      0.65      0.68       360\n",
      "           2       0.57      0.66      0.61       280\n",
      "\n",
      "    accuracy                           0.63       940\n",
      "   macro avg       0.63      0.63      0.63       940\n",
      "weighted avg       0.64      0.63      0.64       940\n",
      "\n"
     ]
    },
    {
     "data": {
      "image/png": "[encoded data removed]",
      "text/plain": [
       "<Figure size 800x500 with 1 Axes>"
      ]
     },
     "metadata": {},
     "output_type": "display_data"
    }
   ],
   "source": [
    "# Importing necessary libraries for evaluation and visualization\n",
    "from sklearn.metrics import accuracy_score, classification_report\n",
    "import matplotlib.pyplot as plt\n",
    "\n",
    "# Evaluate the model on training and test sets\n",
    "train_accuracy = accuracy_score(y_train, y_pred_train)\n",
    "test_accuracy = accuracy_score(y_test, y_pred_test)\n",
    "\n",
    "# Print the accuracy metrics\n",
    "print(f\"Training Accuracy: {train_accuracy}\")\n",
    "print(f\"Test Accuracy: {test_accuracy}\")\n",
    "\n",
    "# Generate classification reports for training and test sets\n",
    "print(\"\\nClassification Report for Training Set:\")\n",
    "print(classification_report(y_train, y_pred_train))\n",
    "\n",
    "print(\"\\nClassification Report for Test Set:\")\n",
    "print(classification_report(y_test, y_pred_test))\n",
    "\n",
    "# Plotting the training and test accuracy\n",
    "accuracies = [train_accuracy, test_accuracy]\n",
    "labels = ['Training Accuracy', 'Test Accuracy']\n",
    "\n",
    "# Create the bar chart\n",
    "plt.figure(figsize=(8, 5))\n",
    "plt.bar(labels, accuracies, color=['forestgreen', 'orange'])\n",
    "plt.ylim(0, 1)  # Set y-axis limit to [0, 1] to represent accuracy as percentage\n",
    "\n",
    "# Add labels and title\n",
    "plt.ylabel('Accuracy Score')\n",
    "plt.title('Training vs Test Accuracy')\n",
    "\n",
    "# Display the plot\n",
    "plt.show()"
   ]
  },
  {
   "cell_type": "code",
   "execution_count": 138,
   "id": "ed619cd4-8227-4f68-ba89-2219e9e4f6b7",
   "metadata": {},
   "outputs": [
    {
     "data": {
      "image/png": "[encoded data removed]",
      "text/plain": [
       "<Figure size 800x600 with 2 Axes>"
      ]
     },
     "metadata": {},
     "output_type": "display_data"
    }
   ],
   "source": [
    "# Import Seaborn\n",
    "import seaborn as sns\n",
    "cm = confusion_matrix(y_test, y_pred_test)\n",
    "\n",
    "# Plot the confusion matrix using seaborn\n",
    "plt.figure(figsize=(8,6))\n",
    "sns.heatmap(cm, annot=True, fmt=\"d\", cmap=\"Blues\", xticklabels=[0, 1, 2], yticklabels=[0, 1, 2])\n",
    "\n",
    "# Add labels, title and ticks\n",
    "plt.xlabel('Predicted Labels')\n",
    "plt.ylabel('True Labels')\n",
    "plt.title('Confusion Matrix for 3-Class Classification')\n",
    "plt.show()"
   ]
  },
  {
   "cell_type": "code",
   "execution_count": 140,
   "id": "62ce05dc-f55a-4757-a80d-78fe894d41a1",
   "metadata": {},
   "outputs": [
    {
     "name": "stdout",
     "output_type": "stream",
     "text": [
      "Fitting 5 folds for each of 24 candidates, totalling 120 fits\n",
      "Best Parameters: {'max_depth': None, 'max_features': 'sqrt', 'min_samples_leaf': 4, 'min_samples_split': 10, 'n_estimators': 100}\n",
      "Training Accuracy: 0.9916666666666667\n",
      "Test Accuracy: 0.6329787234042553\n"
     ]
    }
   ],
   "source": [
    "from sklearn.ensemble import RandomForestClassifier\n",
    "from sklearn.model_selection import GridSearchCV, StratifiedKFold\n",
    "from sklearn.metrics import accuracy_score\n",
    "\n",
    "# Initialize the Random Forest Classifier\n",
    "rf_model = RandomForestClassifier(random_state=42)\n",
    "\n",
    "# Define a parameter grid that balances simplicity and performance\n",
    "param_grid = {\n",
    "    'n_estimators': [50, 100],  # Smaller number of trees to reduce complexity\n",
    "    'max_depth': [None, 10, 15],  # Allow deeper trees where necessary\n",
    "    'min_samples_split': [5, 10],  # Prevent overfitting by requiring more samples\n",
    "    'min_samples_leaf': [2, 4],  # Prevent overfitting with larger leaf nodes\n",
    "    'max_features': ['sqrt'],  # Standard choice for classification\n",
    "}\n",
    "\n",
    "# Use Stratified K-Fold cross-validation\n",
    "skf = StratifiedKFold(n_splits=5)\n",
    "\n",
    "# Set up GridSearchCV with StratifiedKFold\n",
    "rf_grid_search = GridSearchCV(estimator=rf_model, param_grid=param_grid,\n",
    "                              cv=skf, verbose=2, n_jobs=-1)\n",
    "\n",
    "# Perform the grid search\n",
    "rf_grid_search.fit(X_train, y_train)\n",
    "\n",
    "# Best hyperparameters\n",
    "print(\"Best Parameters:\", rf_grid_search.best_params_)\n",
    "\n",
    "# Use the best model\n",
    "best_rf_model = rf_grid_search.best_estimator_\n",
    "\n",
    "# Evaluate the best model on the training and test set\n",
    "y_pred_train_best = best_rf_model.predict(X_train)\n",
    "y_pred_test_best = best_rf_model.predict(X_test)\n",
    "\n",
    "# Training set evaluation\n",
    "print(\"Training Accuracy:\", accuracy_score(y_train, y_pred_train_best))\n",
    "\n",
    "# Test set evaluation\n",
    "print(\"Test Accuracy:\", accuracy_score(y_test, y_pred_test_best))"
   ]
  },
  {
   "cell_type": "code",
   "execution_count": 142,
   "id": "b3b673a3-35ba-4370-9e37-45a5397b945e",
   "metadata": {},
   "outputs": [
    {
     "data": {
      "image/png": "[encoded data removed]",
      "text/plain": [
       "<Figure size 800x600 with 2 Axes>"
      ]
     },
     "metadata": {},
     "output_type": "display_data"
    }
   ],
   "source": [
    "# Import Seaborn\n",
    "import seaborn as sns\n",
    "cm = confusion_matrix(y_test, y_pred_test_best)\n",
    "\n",
    "# Plot the confusion matrix using seaborn\n",
    "plt.figure(figsize=(8,6))\n",
    "sns.heatmap(cm, annot=True, fmt=\"d\", cmap=\"Blues\", xticklabels=[0, 1, 2], yticklabels=[0, 1, 2])\n",
    "\n",
    "# Add labels, title and ticks\n",
    "plt.xlabel('Predicted Labels')\n",
    "plt.ylabel('True Labels')\n",
    "plt.title('Confusion Matrix for 3-Class Classification')\n",
    "plt.show()"
   ]
  },
  {
   "cell_type": "markdown",
   "id": "070c6225-002e-459c-9b4a-6906ccd5914c",
   "metadata": {},
   "source": [
    "## LightGBM"
   ]
  },
  {
   "cell_type": "code",
   "execution_count": 145,
   "id": "3f301c20-7c05-41cc-a33e-d55adf2fd867",
   "metadata": {},
   "outputs": [
    {
     "name": "stdout",
     "output_type": "stream",
     "text": [
      "[LightGBM] [Warning] Found whitespace in feature_names, replace with underlines\n",
      "[LightGBM] [Info] Auto-choosing row-wise multi-threading, the overhead of testing was 0.001696 seconds.\n",
      "You can set `force_row_wise=true` to remove the overhead.\n",
      "And if memory is not enough, you can set `force_col_wise=true`.\n",
      "[LightGBM] [Info] Total Bins 967\n",
      "[LightGBM] [Info] Number of data points in the train set: 3360, number of used features: 4\n",
      "[LightGBM] [Info] Start training from score -1.098612\n",
      "[LightGBM] [Info] Start training from score -1.098612\n",
      "[LightGBM] [Info] Start training from score -1.098612\n",
      "Training Classification Report:\n",
      "               precision    recall  f1-score   support\n",
      "\n",
      "           0       0.98      0.97      0.97      1120\n",
      "           1       0.97      0.97      0.97      1120\n",
      "           2       0.97      0.98      0.97      1120\n",
      "\n",
      "    accuracy                           0.97      3360\n",
      "   macro avg       0.97      0.97      0.97      3360\n",
      "weighted avg       0.97      0.97      0.97      3360\n",
      "\n",
      "Test Classification Report:\n",
      "               precision    recall  f1-score   support\n",
      "\n",
      "           0       0.62      0.63      0.63       300\n",
      "           1       0.69      0.64      0.66       360\n",
      "           2       0.62      0.68      0.65       280\n",
      "\n",
      "    accuracy                           0.65       940\n",
      "   macro avg       0.65      0.65      0.65       940\n",
      "weighted avg       0.65      0.65      0.65       940\n",
      "\n",
      "Training Accuracy: 0.9741\n",
      "Test Accuracy: 0.6479\n"
     ]
    },
    {
     "data": {
      "image/png": "[encoded data removed]",
      "text/plain": [
       "<Figure size 1000x600 with 1 Axes>"
      ]
     },
     "metadata": {},
     "output_type": "display_data"
    }
   ],
   "source": [
    "# Required libraries\n",
    "import lightgbm as lgb\n",
    "from sklearn.metrics import accuracy_score, classification_report, confusion_matrix\n",
    "\n",
    "# Training before hyperparameter tuning\n",
    "model = lgb.LGBMClassifier()\n",
    "model.fit(X_train_selection, y_train)\n",
    "\n",
    "# Predict for training and test sets\n",
    "y_train_pred = model.predict(X_train_selection)\n",
    "y_test_pred = model.predict(X_test_selection)\n",
    "\n",
    "# Classification report for training and test sets\n",
    "print(\"Training Classification Report:\\n\", classification_report(y_train, y_train_pred))\n",
    "print(\"Test Classification Report:\\n\", classification_report(y_test, y_test_pred))\n",
    "\n",
    "# Accuracy Scores\n",
    "train_accuracy = accuracy_score(y_train, y_train_pred)\n",
    "test_accuracy = accuracy_score(y_test, y_test_pred)\n",
    "\n",
    "print(f\"Training Accuracy: {train_accuracy:.4f}\")\n",
    "print(f\"Test Accuracy: {test_accuracy:.4f}\")\n",
    "\n",
    "# Plot training and test accuracy\n",
    "plt.figure(figsize=(10, 6))\n",
    "plt.bar([\"Training Accuracy\", \"Test Accuracy\"], [train_accuracy, test_accuracy], color=[\"yellowgreen\", \"darkorange\"])\n",
    "plt.ylabel(\"Accuracy\")\n",
    "plt.title(\"LightGBM - Accuracy Before Hyperparameter Tuning\")\n",
    "plt.show()"
   ]
  },
  {
   "cell_type": "code",
   "execution_count": 147,
   "id": "b9bc9163-8c00-4c82-b26d-7c943af88257",
   "metadata": {},
   "outputs": [
    {
     "data": {
      "image/png": "[encoded data removed]",
      "text/plain": [
       "<Figure size 800x600 with 2 Axes>"
      ]
     },
     "metadata": {},
     "output_type": "display_data"
    }
   ],
   "source": [
    "# Import Seaborn\n",
    "import seaborn as sns\n",
    "cm = confusion_matrix(y_test, y_test_pred)\n",
    "\n",
    "# Plot the confusion matrix using seaborn\n",
    "plt.figure(figsize=(8,6))\n",
    "sns.heatmap(cm, annot=True, fmt=\"d\", cmap=\"Blues\", xticklabels=[0, 1, 2], yticklabels=[0, 1, 2])\n",
    "\n",
    "# Add labels, title and ticks\n",
    "plt.xlabel('Predicted Labels')\n",
    "plt.ylabel('True Labels')\n",
    "plt.title('Confusion Matrix for 3-Class Classification')\n",
    "plt.show()"
   ]
  },
  {
   "cell_type": "code",
   "execution_count": 149,
   "id": "f9e1cf75-485f-4a2a-a2e8-b4e24e5c1483",
   "metadata": {},
   "outputs": [
    {
     "name": "stdout",
     "output_type": "stream",
     "text": [
      "Fitting 5 folds for each of 50 candidates, totalling 250 fits\n",
      "[LightGBM] [Warning] feature_fraction is set=0.5, colsample_bytree=0.5 will be ignored. Current value: feature_fraction=0.5\n",
      "[LightGBM] [Warning] Found whitespace in feature_names, replace with underlines\n",
      "[LightGBM] [Warning] feature_fraction is set=0.5, colsample_bytree=0.5 will be ignored. Current value: feature_fraction=0.5\n",
      "[LightGBM] [Info] Auto-choosing col-wise multi-threading, the overhead of testing was 0.000120 seconds.\n",
      "You can set `force_col_wise=true` to remove the overhead.\n",
      "[LightGBM] [Info] Total Bins 967\n",
      "[LightGBM] [Info] Number of data points in the train set: 3360, number of used features: 4\n",
      "[LightGBM] [Info] Start training from score -1.098612\n",
      "[LightGBM] [Info] Start training from score -1.098612\n",
      "[LightGBM] [Info] Start training from score -1.098612\n",
      "Best Hyperparameters: {'subsample': 0.6, 'reg_lambda': 0.1, 'reg_alpha': 0.1, 'num_leaves': 31, 'n_estimators': 100, 'min_child_samples': 20, 'max_depth': 100, 'learning_rate': 0.05, 'feature_fraction': 0.5, 'colsample_bytree': 0.5}\n",
      "[LightGBM] [Warning] feature_fraction is set=0.5, colsample_bytree=0.5 will be ignored. Current value: feature_fraction=0.5\n",
      "[LightGBM] [Warning] feature_fraction is set=0.5, colsample_bytree=0.5 will be ignored. Current value: feature_fraction=0.5\n",
      "Training Classification Report (After RandomizedSearch Tuning):\n",
      "               precision    recall  f1-score   support\n",
      "\n",
      "           0       0.90      0.87      0.88      1120\n",
      "           1       0.89      0.89      0.89      1120\n",
      "           2       0.87      0.89      0.88      1120\n",
      "\n",
      "    accuracy                           0.88      3360\n",
      "   macro avg       0.88      0.88      0.88      3360\n",
      "weighted avg       0.88      0.88      0.88      3360\n",
      "\n",
      "Test Classification Report (After RandomizedSearch Tuning):\n",
      "               precision    recall  f1-score   support\n",
      "\n",
      "           0       0.62      0.62      0.62       300\n",
      "           1       0.72      0.65      0.68       360\n",
      "           2       0.60      0.68      0.64       280\n",
      "\n",
      "    accuracy                           0.65       940\n",
      "   macro avg       0.65      0.65      0.65       940\n",
      "weighted avg       0.65      0.65      0.65       940\n",
      "\n",
      "Training Accuracy (After Tuning): 0.8842\n",
      "Test Accuracy (After Tuning): 0.6479\n"
     ]
    },
    {
     "data": {
      "image/png": "[encoded data removed]",
      "text/plain": [
       "<Figure size 1000x600 with 1 Axes>"
      ]
     },
     "metadata": {},
     "output_type": "display_data"
    }
   ],
   "source": [
    "from sklearn.model_selection import RandomizedSearchCV\n",
    "\n",
    "# Define hyperparameter space for tuning\n",
    "param_dist = {\n",
    "    'learning_rate': [0.001, 0.005, 0.01,0.05],\n",
    "    'max_depth': [15, 50, 70, 100],\n",
    "    'num_leaves': [20, 31, 50, 100],\n",
    "    'n_estimators': [100, 200, 300, 400,500],\n",
    "    'min_child_samples': [20, 30, 40],\n",
    "    'subsample': [0.6, 0.8, 1.0],\n",
    "    'colsample_bytree': [0.1, 0.3, 0.5, 0.7, 1],\n",
    "   'feature_fraction' : [0.1,0.5,1],\n",
    "    'reg_alpha': [0, 0.01, 0.1, 1],  # L1 regularization\n",
    "    'reg_lambda': [0, 0.01, 0.1, 1],  # L2 regularization\n",
    "}\n",
    "\n",
    "# Initialize the LightGBM classifier\n",
    "lgbm = lgb.LGBMClassifier(objective='multiclass', random_state=42)\n",
    "\n",
    "# RandomizedSearchCV setup\n",
    "random_search = RandomizedSearchCV(estimator=lgbm,\n",
    "                                   param_distributions=param_dist,\n",
    "                                   n_iter=50,  # Number of random samples to try\n",
    "                                   scoring='accuracy',\n",
    "                                   cv=5,  # 5-fold cross-validation\n",
    "                                   verbose=1,\n",
    "                                   random_state=42,\n",
    "                                   n_jobs=-1)\n",
    "\n",
    "# Fit the model with RandomizedSearchCV\n",
    "random_search.fit(X_train_selection, y_train)\n",
    "\n",
    "# Get the best hyperparameters and the best model\n",
    "best_params = random_search.best_params_\n",
    "best_model = random_search.best_estimator_\n",
    "\n",
    "print(f\"Best Hyperparameters: {best_params}\")\n",
    "\n",
    "# Predict for training and test sets using the best model\n",
    "y_train_best_pred = best_model.predict(X_train_selection)\n",
    "y_test_best_pred = best_model.predict(X_test_selection)\n",
    "\n",
    "# Classification report for training and test sets after RandomizedSearchCV\n",
    "print(\"Training Classification Report (After RandomizedSearch Tuning):\\n\", classification_report(y_train, y_train_best_pred))\n",
    "print(\"Test Classification Report (After RandomizedSearch Tuning):\\n\", classification_report(y_test, y_test_best_pred))\n",
    "\n",
    "# Accuracy Scores after tuning\n",
    "train_accuracy_best = accuracy_score(y_train, y_train_best_pred)\n",
    "test_accuracy_best = accuracy_score(y_test, y_test_best_pred)\n",
    "\n",
    "print(f\"Training Accuracy (After Tuning): {train_accuracy_best:.4f}\")\n",
    "print(f\"Test Accuracy (After Tuning): {test_accuracy_best:.4f}\")\n",
    "\n",
    "# Plot training and test accuracy after tuning\n",
    "plt.figure(figsize=(10, 6))\n",
    "plt.bar([\"Training Accuracy\", \"Test Accuracy\"], [train_accuracy_best, test_accuracy_best], color=[\"yellowgreen\", \"darkorange\"])\n",
    "plt.ylabel(\"Accuracy\")\n",
    "plt.title(\"LightGBM - Accuracy After RandomizedSearch Tuning\")\n",
    "plt.show()"
   ]
  },
  {
   "cell_type": "code",
   "execution_count": 151,
   "id": "2c245bb1-edc1-4fd5-bcb7-17777ac401d3",
   "metadata": {},
   "outputs": [
    {
     "data": {
      "image/png": "[encoded data removed]",
      "text/plain": [
       "<Figure size 800x600 with 2 Axes>"
      ]
     },
     "metadata": {},
     "output_type": "display_data"
    }
   ],
   "source": [
    "# Import Seaborn\n",
    "import seaborn as sns\n",
    "cm = confusion_matrix(y_test, y_test_best_pred)\n",
    "\n",
    "# Plot the confusion matrix using seaborn\n",
    "plt.figure(figsize=(8,6))\n",
    "sns.heatmap(cm, annot=True, fmt=\"d\", cmap=\"Blues\", xticklabels=[0, 1, 2], yticklabels=[0, 1, 2])\n",
    "\n",
    "# Add labels, title and ticks\n",
    "plt.xlabel('Predicted Labels')\n",
    "plt.ylabel('True Labels')\n",
    "plt.title('Confusion Matrix for 3-Class Classification')\n",
    "plt.show()"
   ]
  },
  {
   "cell_type": "markdown",
   "id": "72ad343f-fbdd-4cfe-a7eb-90bbd89cd9f1",
   "metadata": {},
   "source": [
    "Comparison of the models"
   ]
  },
  {
   "cell_type": "code",
   "execution_count": 154,
   "id": "473b5fc3-1d82-4a4c-a2ec-c096773be57d",
   "metadata": {},
   "outputs": [
    {
     "name": "stderr",
     "output_type": "stream",
     "text": [
      "C:\\Users\\User\\anaconda3\\Lib\\site-packages\\xgboost\\core.py:158: UserWarning: [17:02:25] WARNING: C:\\buildkite-agent\\builds\\buildkite-windows-cpu-autoscaling-group-i-0015a694724fa8361-1\\xgboost\\xgboost-ci-windows\\src\\learner.cc:740: \n",
      "Parameters: { \"use_label_encoder\" } are not used.\n",
      "\n",
      "  warnings.warn(smsg, UserWarning)\n"
     ]
    },
    {
     "data": {
      "image/png": "[encoded data removed]",
      "text/plain": [
       "<Figure size 1200x600 with 1 Axes>"
      ]
     },
     "metadata": {},
     "output_type": "display_data"
    }
   ],
   "source": [
    "import pandas as pd\n",
    "import numpy as np\n",
    "from sklearn.model_selection import train_test_split\n",
    "from sklearn.ensemble import RandomForestClassifier\n",
    "from xgboost import XGBClassifier\n",
    "from xgboost import XGBClassifier\n",
    "from sklearn.metrics import accuracy_score\n",
    "import matplotlib.pyplot as plt\n",
    "\n",
    "# Define and initialize the classifiers\n",
    "classifiers = {\n",
    "    'Random Forest': RandomForestClassifier(max_depth=None, max_features='sqrt', min_samples_leaf=2, min_samples_split=5, n_estimators=100),\n",
    "    'XGBoost': XGBClassifier(use_label_encoder=False, eval_metric='mlogloss', random_state=42),\n",
    "    'XGCat': XGBClassifier() \n",
    "}\n",
    "\n",
    "# Train, predict, and evaluate each classifier\n",
    "results = {}\n",
    "for name, model in classifiers.items():\n",
    "    # Train the model\n",
    "    model.fit(X_train, y_train)\n",
    "    \n",
    "    # Make predictions\n",
    "    y_pred = model.predict(X_test)\n",
    "    \n",
    "    # Calculate accuracy\n",
    "    accuracy = accuracy_score(y_test, y_pred)\n",
    "    \n",
    "    # Store the result\n",
    "    results[name] = accuracy\n",
    "\n",
    "# Display the results\n",
    "results_df = pd.DataFrame(list(results.items()), columns=['Model', 'Accuracy'])\n",
    "\n",
    "# Filter for specific models\n",
    "filtered_results_df = results_df[results_df['Model'].isin(['Random Forest', 'XGBoost', 'XGCat'])]\n",
    "\n",
    "# Plotting the filtered results\n",
    "plt.figure(figsize=(12, 6))\n",
    "plt.barh(filtered_results_df['Model'], filtered_results_df['Accuracy'], color='orange')\n",
    "plt.xlabel('Accuracy')\n",
    "plt.title('Classifier Accuracy Comparison')\n",
    "plt.xlim(0, 1)  # Setting x-axis limits to 0-1 for accuracy\n",
    "plt.show()\n"
   ]
  },
  {
   "cell_type": "markdown",
   "id": "a57a6126-b403-4720-a6ba-c7206b447db5",
   "metadata": {},
   "source": [
    "## Importing the best model - catboost"
   ]
  },
  {
   "cell_type": "code",
   "execution_count": 58,
   "id": "6a8c947c-dd0e-44ce-baae-d583350d3228",
   "metadata": {},
   "outputs": [],
   "source": [
    "#import pickle\n",
    "#with open('catboost_model_1.pickle', 'wb') as file:\n",
    "#    pickle.dump(best_catboost_model, file)"
   ]
  },
  {
   "cell_type": "code",
   "execution_count": 59,
   "id": "4840c3e3-66cc-4f31-9b15-3749021602aa",
   "metadata": {},
   "outputs": [],
   "source": [
    "# Save the LabelEncoder inside 'models' folder\n",
    "#with open(os.path.join('models', 'label_encoder.pickle'), 'wb') as file:\n",
    "#    pickle.dump(encoder, file)"
   ]
  },
  {
   "cell_type": "code",
   "execution_count": 109,
   "id": "da8b898d-9f21-4041-9a24-3a5ecc131f01",
   "metadata": {},
   "outputs": [
    {
     "name": "stdin",
     "output_type": "stream",
     "text": [
      "Enter the age:  18\n",
      "Enter the gender:  Male\n",
      "Enter the Education_Level:  Bachelor's\n",
      "Enter the Marital_Status:  Divorced\n",
      "Enter the income:  63578\n",
      "Enter the Credit_Score:  681\n",
      "Enter the Loan_amount:  26888\n",
      "Enter the Loan_purpose:  Business\n",
      "Enter the Employment_status:  Employed\n",
      "Enter the years at current job:  12\n",
      "Enter the payment_history:  Fair\n",
      "Enter the Debt-to-Income Ratio:  0.10\n",
      "Enter the Assets_Value:  49558\n",
      "Enter the Number_of_Dependents:  2\n",
      "Enter the City:  North Shannonmouth\n",
      "Enter the State:  IA\n",
      "Enter the country:  Venezuela\n",
      "Enter the Previous_defaults:  4\n",
      "Enter the Marital_status_change:  0\n"
     ]
    }
   ],
   "source": [
    "age = int(input('Enter the age: '))\n",
    "gender = input('Enter the gender: ')\n",
    "Education_Level = input('Enter the Education_Level: ')\n",
    "Marital_Status = input('Enter the Marital_Status: ')\n",
    "income = float(input('Enter the income: '))\n",
    "Credit_Score = float(input('Enter the Credit_Score: '))\n",
    "Loan_Amount = float(input('Enter the Loan_amount: '))\n",
    "Loan_purpose = input('Enter the Loan_purpose: ')\n",
    "Employment_status = input('Enter the Employment_status: ')\n",
    "years = int(input('Enter the years at current job: '))\n",
    "payment_history = input('Enter the payment_history: ')\n",
    "Debt_to_Income_Ratio = float(input('Enter the Debt-to-Income Ratio: '))\n",
    "Assets_Value = float(input('Enter the Assets_Value: '))\n",
    "Number_of_Dependents = int(input('Enter the Number_of_Dependents: '))\n",
    "City = input('Enter the City: ')\n",
    "State = input('Enter the State: ')\n",
    "country = input('Enter the country: ')\n",
    "Previous_defaults = int(input('Enter the Previous_defaults: '))\n",
    "Marital_status_change = int(input('Enter the Marital_status_change: '))"
   ]
  },
  {
   "cell_type": "code",
   "execution_count": 110,
   "id": "b5c030b5-789f-4090-85db-c7bf72ab7e5a",
   "metadata": {},
   "outputs": [
    {
     "name": "stdout",
     "output_type": "stream",
     "text": [
      "low\n"
     ]
    }
   ],
   "source": [
    "import numpy as np\n",
    "\n",
    "# Prepare your input data\n",
    "input_data = [\n",
    "    age,                            # Numeric\n",
    "    gender,                         # Original categorical\n",
    "    Education_Level,                # Original categorical\n",
    "    Marital_Status,                 # Original categorical\n",
    "    income,                         # Numeric\n",
    "    Credit_Score,                  # Numeric\n",
    "    Loan_Amount,                   # Numeric\n",
    "    Loan_purpose,                  # Original categorical\n",
    "    Employment_status,              # Original categorical\n",
    "    years,                          # Numeric\n",
    "    payment_history,                # Numeric\n",
    "    Debt_to_Income_Ratio,          # Numeric\n",
    "    Assets_Value,                   # Numeric\n",
    "    Number_of_Dependents,           # Numeric\n",
    "    City,                           # Original categorical\n",
    "    State,                          # Original categorical\n",
    "    country,                        # Original categorical\n",
    "    Previous_defaults,              # Numeric\n",
    "    Marital_status_change           # Numeric or categorical\n",
    "]\n",
    "\n",
    "# Convert input_data to DataFrame for transformation\n",
    "input_df = pd.DataFrame([input_data], columns=[\n",
    "    'Age', 'Gender', 'Education Level', 'Marital Status',\n",
    "    'Income', 'Credit Score', 'Loan Amount', 'Loan Purpose',\n",
    "    'Employment Status', 'Years at Current Job', 'Payment History',\n",
    "    'Debt-to-Income Ratio', 'Assets Value', 'Number of Dependents',\n",
    "    'City', 'State', 'Country', 'Previous Defaults', 'Marital Status Change'\n",
    "])\n",
    "\n",
    "# Encode the input data using the transformer\n",
    "encoded_input = transformer.transform(input_df)\n",
    "\n",
    "# Scale the encoded input data using the scaler\n",
    "scaled_input = scaler.transform(encoded_input)\n",
    "\n",
    "# Make prediction\n",
    "prediction = best_xbg_model.predict(scaled_input)\n",
    "\n",
    "# Interpret the prediction\n",
    "if prediction == 2:\n",
    "    print(\"medium\")\n",
    "elif prediction == 0:\n",
    "    print(\"high\")\n",
    "else:\n",
    "    print(\"low\")\n"
   ]
  },
  {
   "cell_type": "code",
   "execution_count": null,
   "id": "e912a5fd-7fb1-471a-9b90-064f02500827",
   "metadata": {},
   "outputs": [],
   "source": []
  }
 ],
 "metadata": {
  "accelerator": "GPU",
  "colab": {
   "gpuType": "T4",
   "provenance": []
  },
  "kernelspec": {
   "display_name": "Python 3 (ipykernel)",
   "language": "python",
   "name": "python3"
  },
  "language_info": {
   "codemirror_mode": {
    "name": "ipython",
    "version": 3
   },
   "file_extension": ".py",
   "mimetype": "text/x-python",
   "name": "python",
   "nbconvert_exporter": "python",
   "pygments_lexer": "ipython3",
   "version": "3.12.4"
  }
 },
 "nbformat": 4,
 "nbformat_minor": 5
}
